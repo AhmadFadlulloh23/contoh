{
  "nbformat": 4,
  "nbformat_minor": 0,
  "metadata": {
    "colab": {
      "provenance": [],
      "authorship_tag": "ABX9TyN054g0I2kHuHUzxWuYIIET",
      "include_colab_link": true
    },
    "kernelspec": {
      "name": "python3",
      "display_name": "Python 3"
    },
    "language_info": {
      "name": "python"
    }
  },
  "cells": [
    {
      "cell_type": "markdown",
      "metadata": {
        "id": "view-in-github",
        "colab_type": "text"
      },
      "source": [
        "<a href=\"https://colab.research.google.com/github/AhmadFadlulloh23/Machine_Learning/blob/main/lecture-2-logistic-regression.ipynb\" target=\"_parent\"><img src=\"https://colab.research.google.com/assets/colab-badge.svg\" alt=\"Open In Colab\"/></a>"
      ]
    },
    {
      "cell_type": "code",
      "execution_count": null,
      "metadata": {
        "id": "MInF89LYv0H9"
      },
      "outputs": [],
      "source": [
        "# Impor pustaka yang diperlukan\n",
        "import pandas as pd\n",
        "import numpy as np\n",
        "import matplotlib.pyplot as plt\n",
        "import seaborn as sns\n",
        "from sklearn.model_selection import train_test_split\n",
        "from sklearn.preprocessing import StandardScaler\n",
        "from sklearn.linear_model import LogisticRegression\n",
        "from sklearn.metrics import accuracy_score, classification_report, confusion_matrix\n",
        "\n",
        "# Baca dataset\n",
        "heart_data = pd.read_csv('/kaggle/input/health-care-data-set-on-heart-attack-possibility/heart.csv')\n",
        "heart_data.head()\n",
        "\n",
        "# Memisahkan fitur dan label\n",
        "X = heart_data.drop(columns=['target'])\n",
        "y = heart_data['target']\n",
        "# Membagi data menjadi data latih dan data uji\n",
        "X_train, X_test, y_train, y_test = train_test_split(X, y, test_size=0.2, random_state=42)\n",
        "# Normalisasi fitur\n",
        "scaler = StandardScaler()\n",
        "X_train = scaler.fit_transform(X_train)\n",
        "X_test = scaler.transform(X_test)\n",
        "\n",
        "# Membuat model Regresi Logistik\n",
        "model = LogisticRegression()\n",
        "# Melatih model\n",
        "model.fit(X_train, y_train)\n",
        "\n",
        "# Memprediksi label untuk data uji\n",
        "y_pred = model.predict(X_test)\n",
        "# Evaluasi model\n",
        "accuracy = accuracy_score(y_test, y_pred)\n",
        "print(\"Akurasi:\", accuracy)\n",
        "print(\"\\nLaporan Klasifikasi:\\n\", classification_report(y_test, y_pred))\n",
        "print(\"\\nConfusion Matrix:\\n\", confusion_matrix(y_test, y_pred))\n",
        "\n",
        "# Menggabungkan fitur dan label untuk visualisasi\n",
        "heart_visual = heart_data.copy()\n",
        "# Visualisasi korelasi antar fitur\n",
        "plt.figure(figsize=(12, 8))\n",
        "sns.heatmap(heart_visual.corr(), annot=True, cmap='coolwarm', fmt=\".2f\")\n",
        "plt.title('Correlation Heatmap of Heart Disease Dataset')\n",
        "plt.show()"
      ]
    }
  ]
}