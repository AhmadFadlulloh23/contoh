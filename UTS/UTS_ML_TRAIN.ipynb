{
  "nbformat": 4,
  "nbformat_minor": 0,
  "metadata": {
    "colab": {
      "provenance": [],
      "collapsed_sections": [
        "pNfm_FIwR5x9",
        "G4WTe0KcRSp7",
        "mLhbL46Xn0HK",
        "-xpPS7IjkICj",
        "j2czLWoCRw-7",
        "-0-AXxd2SXWz",
        "KmfpgoZ8SxYX",
        "FqkTdjWsaHL0",
        "GVaczWHabfAg",
        "iBy8cCYLdK4N",
        "mGAfgwjadlAo",
        "txOr6vm_dyR6",
        "bDWcBhQ9e55d",
        "n41fJgK1s5Fn",
        "xsExFszn5bxc"
      ],
      "mount_file_id": "1NJYPj-qaG0bDmERrczhsR6LMnLue4ve7",
      "authorship_tag": "ABX9TyN/Ae3O/DeaHMttIktkmoxF",
      "include_colab_link": true
    },
    "kernelspec": {
      "name": "python3",
      "display_name": "Python 3"
    },
    "language_info": {
      "name": "python"
    }
  },
  "cells": [
    {
      "cell_type": "markdown",
      "metadata": {
        "id": "view-in-github",
        "colab_type": "text"
      },
      "source": [
        "<a href=\"https://colab.research.google.com/github/AhmadFadlulloh23/Machine_Learning/blob/main/UTS/UTS_ML_TRAIN.ipynb\" target=\"_parent\"><img src=\"https://colab.research.google.com/assets/colab-badge.svg\" alt=\"Open In Colab\"/></a>"
      ]
    },
    {
      "cell_type": "markdown",
      "source": [
        "# INPUT LIBARY"
      ],
      "metadata": {
        "id": "pNfm_FIwR5x9"
      }
    },
    {
      "cell_type": "code",
      "source": [
        "pip install catboost"
      ],
      "metadata": {
        "colab": {
          "base_uri": "https://localhost:8080/"
        },
        "id": "GweMiFt7lvDc",
        "outputId": "29e5bff6-7b48-4789-8959-b02af7c0f372"
      },
      "execution_count": 4,
      "outputs": [
        {
          "output_type": "stream",
          "name": "stdout",
          "text": [
            "Requirement already satisfied: catboost in /usr/local/lib/python3.10/dist-packages (1.2.5)\n",
            "Requirement already satisfied: graphviz in /usr/local/lib/python3.10/dist-packages (from catboost) (0.20.3)\n",
            "Requirement already satisfied: matplotlib in /usr/local/lib/python3.10/dist-packages (from catboost) (3.7.1)\n",
            "Requirement already satisfied: numpy>=1.16.0 in /usr/local/lib/python3.10/dist-packages (from catboost) (1.25.2)\n",
            "Requirement already satisfied: pandas>=0.24 in /usr/local/lib/python3.10/dist-packages (from catboost) (2.0.3)\n",
            "Requirement already satisfied: scipy in /usr/local/lib/python3.10/dist-packages (from catboost) (1.11.4)\n",
            "Requirement already satisfied: plotly in /usr/local/lib/python3.10/dist-packages (from catboost) (5.15.0)\n",
            "Requirement already satisfied: six in /usr/local/lib/python3.10/dist-packages (from catboost) (1.16.0)\n",
            "Requirement already satisfied: python-dateutil>=2.8.2 in /usr/local/lib/python3.10/dist-packages (from pandas>=0.24->catboost) (2.8.2)\n",
            "Requirement already satisfied: pytz>=2020.1 in /usr/local/lib/python3.10/dist-packages (from pandas>=0.24->catboost) (2023.4)\n",
            "Requirement already satisfied: tzdata>=2022.1 in /usr/local/lib/python3.10/dist-packages (from pandas>=0.24->catboost) (2024.1)\n",
            "Requirement already satisfied: contourpy>=1.0.1 in /usr/local/lib/python3.10/dist-packages (from matplotlib->catboost) (1.2.1)\n",
            "Requirement already satisfied: cycler>=0.10 in /usr/local/lib/python3.10/dist-packages (from matplotlib->catboost) (0.12.1)\n",
            "Requirement already satisfied: fonttools>=4.22.0 in /usr/local/lib/python3.10/dist-packages (from matplotlib->catboost) (4.51.0)\n",
            "Requirement already satisfied: kiwisolver>=1.0.1 in /usr/local/lib/python3.10/dist-packages (from matplotlib->catboost) (1.4.5)\n",
            "Requirement already satisfied: packaging>=20.0 in /usr/local/lib/python3.10/dist-packages (from matplotlib->catboost) (24.0)\n",
            "Requirement already satisfied: pillow>=6.2.0 in /usr/local/lib/python3.10/dist-packages (from matplotlib->catboost) (9.4.0)\n",
            "Requirement already satisfied: pyparsing>=2.3.1 in /usr/local/lib/python3.10/dist-packages (from matplotlib->catboost) (3.1.2)\n",
            "Requirement already satisfied: tenacity>=6.2.0 in /usr/local/lib/python3.10/dist-packages (from plotly->catboost) (8.2.3)\n"
          ]
        }
      ]
    },
    {
      "cell_type": "code",
      "source": [
        "import numpy as np\n",
        "import pandas as pd\n",
        "import matplotlib.pyplot as plt\n",
        "import seaborn as sns\n",
        "from xgboost import XGBRegressor\n",
        "from sklearn.preprocessing import StandardScaler, LabelEncoder\n",
        "from sklearn.impute import SimpleImputer\n",
        "from sklearn.metrics import mean_absolute_error, accuracy_score, precision_score, recall_score, f1_score\n",
        "from sklearn.metrics import mean_squared_error, mean_absolute_error, r2_score\n",
        "from sklearn.model_selection import train_test_split\n",
        "from sklearn.metrics import confusion_matrix,classification_report,ConfusionMatrixDisplay\n",
        "from sklearn.ensemble import RandomForestClassifier\n",
        "from xgboost import XGBClassifier\n",
        "from catboost import CatBoostClassifier"
      ],
      "metadata": {
        "id": "NCbog4PlK-7Q"
      },
      "execution_count": 5,
      "outputs": []
    },
    {
      "cell_type": "code",
      "source": [
        "from google.colab import drive\n",
        "\n",
        "drive.mount('/content/drive')"
      ],
      "metadata": {
        "colab": {
          "base_uri": "https://localhost:8080/"
        },
        "id": "FhzPMMUXSCdG",
        "outputId": "cb562cda-6c91-4591-b54f-2b2170f665d4"
      },
      "execution_count": 6,
      "outputs": [
        {
          "output_type": "stream",
          "name": "stdout",
          "text": [
            "Drive already mounted at /content/drive; to attempt to forcibly remount, call drive.mount(\"/content/drive\", force_remount=True).\n"
          ]
        }
      ]
    },
    {
      "cell_type": "markdown",
      "source": [
        "# INPUT DATASET"
      ],
      "metadata": {
        "id": "G4WTe0KcRSp7"
      }
    },
    {
      "cell_type": "code",
      "source": [
        "\n",
        "train = pd.read_csv('/content/drive/MyDrive/train.csv')"
      ],
      "metadata": {
        "colab": {
          "base_uri": "https://localhost:8080/"
        },
        "id": "1IAicIl4JfNt",
        "outputId": "624f6466-13cb-4783-fc6b-f2c77b12c904"
      },
      "execution_count": 7,
      "outputs": [
        {
          "output_type": "stream",
          "name": "stderr",
          "text": [
            "<ipython-input-7-2441b9de3c73>:1: DtypeWarning: Columns (26) have mixed types. Specify dtype option on import or set low_memory=False.\n",
            "  train = pd.read_csv('/content/drive/MyDrive/train.csv')\n"
          ]
        }
      ]
    },
    {
      "cell_type": "markdown",
      "source": [
        "# CHECKING DATA"
      ],
      "metadata": {
        "id": "mLhbL46Xn0HK"
      }
    },
    {
      "cell_type": "code",
      "source": [
        "train[:8]"
      ],
      "metadata": {
        "colab": {
          "base_uri": "https://localhost:8080/",
          "height": 471
        },
        "id": "HYIWm9fuJ7Xo",
        "outputId": "973fa6d8-8665-41a0-b47e-55192b3848ec"
      },
      "execution_count": 8,
      "outputs": [
        {
          "output_type": "execute_result",
          "data": {
            "text/plain": [
              "       ID Customer_ID     Month           Name   Age          SSN Occupation  \\\n",
              "0  0x1602   CUS_0xd40   January  Aaron Maashoh    23  821-00-0265  Scientist   \n",
              "1  0x1603   CUS_0xd40  February  Aaron Maashoh    23  821-00-0265  Scientist   \n",
              "2  0x1604   CUS_0xd40     March  Aaron Maashoh  -500  821-00-0265  Scientist   \n",
              "3  0x1605   CUS_0xd40     April  Aaron Maashoh    23  821-00-0265  Scientist   \n",
              "4  0x1606   CUS_0xd40       May  Aaron Maashoh    23  821-00-0265  Scientist   \n",
              "5  0x1607   CUS_0xd40      June  Aaron Maashoh    23  821-00-0265  Scientist   \n",
              "6  0x1608   CUS_0xd40      July  Aaron Maashoh    23  821-00-0265  Scientist   \n",
              "7  0x1609   CUS_0xd40    August            NaN    23    #F%$D@*&8  Scientist   \n",
              "\n",
              "  Annual_Income  Monthly_Inhand_Salary  Num_Bank_Accounts  ...  Credit_Mix  \\\n",
              "0      19114.12            1824.843333                  3  ...           _   \n",
              "1      19114.12                    NaN                  3  ...        Good   \n",
              "2      19114.12                    NaN                  3  ...        Good   \n",
              "3      19114.12                    NaN                  3  ...        Good   \n",
              "4      19114.12            1824.843333                  3  ...        Good   \n",
              "5      19114.12                    NaN                  3  ...        Good   \n",
              "6      19114.12            1824.843333                  3  ...        Good   \n",
              "7      19114.12            1824.843333                  3  ...        Good   \n",
              "\n",
              "   Outstanding_Debt Credit_Utilization_Ratio     Credit_History_Age  \\\n",
              "0            809.98                26.822620  22 Years and 1 Months   \n",
              "1            809.98                31.944960                    NaN   \n",
              "2            809.98                28.609352  22 Years and 3 Months   \n",
              "3            809.98                31.377862  22 Years and 4 Months   \n",
              "4            809.98                24.797347  22 Years and 5 Months   \n",
              "5            809.98                27.262259  22 Years and 6 Months   \n",
              "6            809.98                22.537593  22 Years and 7 Months   \n",
              "7            809.98                23.933795                    NaN   \n",
              "\n",
              "   Payment_of_Min_Amount Total_EMI_per_month Amount_invested_monthly  \\\n",
              "0                     No           49.574949       80.41529543900253   \n",
              "1                     No           49.574949      118.28022162236736   \n",
              "2                     No           49.574949         81.699521264648   \n",
              "3                     No           49.574949       199.4580743910713   \n",
              "4                     No           49.574949      41.420153086217326   \n",
              "5                     No           49.574949      62.430172331195294   \n",
              "6                     No           49.574949       178.3440674122349   \n",
              "7                     No           49.574949      24.785216509052056   \n",
              "\n",
              "                  Payment_Behaviour     Monthly_Balance Credit_Score  \n",
              "0   High_spent_Small_value_payments  312.49408867943663         Good  \n",
              "1    Low_spent_Large_value_payments  284.62916249607184         Good  \n",
              "2   Low_spent_Medium_value_payments   331.2098628537912         Good  \n",
              "3    Low_spent_Small_value_payments  223.45130972736786         Good  \n",
              "4  High_spent_Medium_value_payments  341.48923103222177         Good  \n",
              "5                            !@9#%8   340.4792117872438         Good  \n",
              "6    Low_spent_Small_value_payments   244.5653167062043         Good  \n",
              "7  High_spent_Medium_value_payments  358.12416760938714     Standard  \n",
              "\n",
              "[8 rows x 28 columns]"
            ],
            "text/html": [
              "\n",
              "  <div id=\"df-63d325f0-b934-4205-b8ff-596fd248bb00\" class=\"colab-df-container\">\n",
              "    <div>\n",
              "<style scoped>\n",
              "    .dataframe tbody tr th:only-of-type {\n",
              "        vertical-align: middle;\n",
              "    }\n",
              "\n",
              "    .dataframe tbody tr th {\n",
              "        vertical-align: top;\n",
              "    }\n",
              "\n",
              "    .dataframe thead th {\n",
              "        text-align: right;\n",
              "    }\n",
              "</style>\n",
              "<table border=\"1\" class=\"dataframe\">\n",
              "  <thead>\n",
              "    <tr style=\"text-align: right;\">\n",
              "      <th></th>\n",
              "      <th>ID</th>\n",
              "      <th>Customer_ID</th>\n",
              "      <th>Month</th>\n",
              "      <th>Name</th>\n",
              "      <th>Age</th>\n",
              "      <th>SSN</th>\n",
              "      <th>Occupation</th>\n",
              "      <th>Annual_Income</th>\n",
              "      <th>Monthly_Inhand_Salary</th>\n",
              "      <th>Num_Bank_Accounts</th>\n",
              "      <th>...</th>\n",
              "      <th>Credit_Mix</th>\n",
              "      <th>Outstanding_Debt</th>\n",
              "      <th>Credit_Utilization_Ratio</th>\n",
              "      <th>Credit_History_Age</th>\n",
              "      <th>Payment_of_Min_Amount</th>\n",
              "      <th>Total_EMI_per_month</th>\n",
              "      <th>Amount_invested_monthly</th>\n",
              "      <th>Payment_Behaviour</th>\n",
              "      <th>Monthly_Balance</th>\n",
              "      <th>Credit_Score</th>\n",
              "    </tr>\n",
              "  </thead>\n",
              "  <tbody>\n",
              "    <tr>\n",
              "      <th>0</th>\n",
              "      <td>0x1602</td>\n",
              "      <td>CUS_0xd40</td>\n",
              "      <td>January</td>\n",
              "      <td>Aaron Maashoh</td>\n",
              "      <td>23</td>\n",
              "      <td>821-00-0265</td>\n",
              "      <td>Scientist</td>\n",
              "      <td>19114.12</td>\n",
              "      <td>1824.843333</td>\n",
              "      <td>3</td>\n",
              "      <td>...</td>\n",
              "      <td>_</td>\n",
              "      <td>809.98</td>\n",
              "      <td>26.822620</td>\n",
              "      <td>22 Years and 1 Months</td>\n",
              "      <td>No</td>\n",
              "      <td>49.574949</td>\n",
              "      <td>80.41529543900253</td>\n",
              "      <td>High_spent_Small_value_payments</td>\n",
              "      <td>312.49408867943663</td>\n",
              "      <td>Good</td>\n",
              "    </tr>\n",
              "    <tr>\n",
              "      <th>1</th>\n",
              "      <td>0x1603</td>\n",
              "      <td>CUS_0xd40</td>\n",
              "      <td>February</td>\n",
              "      <td>Aaron Maashoh</td>\n",
              "      <td>23</td>\n",
              "      <td>821-00-0265</td>\n",
              "      <td>Scientist</td>\n",
              "      <td>19114.12</td>\n",
              "      <td>NaN</td>\n",
              "      <td>3</td>\n",
              "      <td>...</td>\n",
              "      <td>Good</td>\n",
              "      <td>809.98</td>\n",
              "      <td>31.944960</td>\n",
              "      <td>NaN</td>\n",
              "      <td>No</td>\n",
              "      <td>49.574949</td>\n",
              "      <td>118.28022162236736</td>\n",
              "      <td>Low_spent_Large_value_payments</td>\n",
              "      <td>284.62916249607184</td>\n",
              "      <td>Good</td>\n",
              "    </tr>\n",
              "    <tr>\n",
              "      <th>2</th>\n",
              "      <td>0x1604</td>\n",
              "      <td>CUS_0xd40</td>\n",
              "      <td>March</td>\n",
              "      <td>Aaron Maashoh</td>\n",
              "      <td>-500</td>\n",
              "      <td>821-00-0265</td>\n",
              "      <td>Scientist</td>\n",
              "      <td>19114.12</td>\n",
              "      <td>NaN</td>\n",
              "      <td>3</td>\n",
              "      <td>...</td>\n",
              "      <td>Good</td>\n",
              "      <td>809.98</td>\n",
              "      <td>28.609352</td>\n",
              "      <td>22 Years and 3 Months</td>\n",
              "      <td>No</td>\n",
              "      <td>49.574949</td>\n",
              "      <td>81.699521264648</td>\n",
              "      <td>Low_spent_Medium_value_payments</td>\n",
              "      <td>331.2098628537912</td>\n",
              "      <td>Good</td>\n",
              "    </tr>\n",
              "    <tr>\n",
              "      <th>3</th>\n",
              "      <td>0x1605</td>\n",
              "      <td>CUS_0xd40</td>\n",
              "      <td>April</td>\n",
              "      <td>Aaron Maashoh</td>\n",
              "      <td>23</td>\n",
              "      <td>821-00-0265</td>\n",
              "      <td>Scientist</td>\n",
              "      <td>19114.12</td>\n",
              "      <td>NaN</td>\n",
              "      <td>3</td>\n",
              "      <td>...</td>\n",
              "      <td>Good</td>\n",
              "      <td>809.98</td>\n",
              "      <td>31.377862</td>\n",
              "      <td>22 Years and 4 Months</td>\n",
              "      <td>No</td>\n",
              "      <td>49.574949</td>\n",
              "      <td>199.4580743910713</td>\n",
              "      <td>Low_spent_Small_value_payments</td>\n",
              "      <td>223.45130972736786</td>\n",
              "      <td>Good</td>\n",
              "    </tr>\n",
              "    <tr>\n",
              "      <th>4</th>\n",
              "      <td>0x1606</td>\n",
              "      <td>CUS_0xd40</td>\n",
              "      <td>May</td>\n",
              "      <td>Aaron Maashoh</td>\n",
              "      <td>23</td>\n",
              "      <td>821-00-0265</td>\n",
              "      <td>Scientist</td>\n",
              "      <td>19114.12</td>\n",
              "      <td>1824.843333</td>\n",
              "      <td>3</td>\n",
              "      <td>...</td>\n",
              "      <td>Good</td>\n",
              "      <td>809.98</td>\n",
              "      <td>24.797347</td>\n",
              "      <td>22 Years and 5 Months</td>\n",
              "      <td>No</td>\n",
              "      <td>49.574949</td>\n",
              "      <td>41.420153086217326</td>\n",
              "      <td>High_spent_Medium_value_payments</td>\n",
              "      <td>341.48923103222177</td>\n",
              "      <td>Good</td>\n",
              "    </tr>\n",
              "    <tr>\n",
              "      <th>5</th>\n",
              "      <td>0x1607</td>\n",
              "      <td>CUS_0xd40</td>\n",
              "      <td>June</td>\n",
              "      <td>Aaron Maashoh</td>\n",
              "      <td>23</td>\n",
              "      <td>821-00-0265</td>\n",
              "      <td>Scientist</td>\n",
              "      <td>19114.12</td>\n",
              "      <td>NaN</td>\n",
              "      <td>3</td>\n",
              "      <td>...</td>\n",
              "      <td>Good</td>\n",
              "      <td>809.98</td>\n",
              "      <td>27.262259</td>\n",
              "      <td>22 Years and 6 Months</td>\n",
              "      <td>No</td>\n",
              "      <td>49.574949</td>\n",
              "      <td>62.430172331195294</td>\n",
              "      <td>!@9#%8</td>\n",
              "      <td>340.4792117872438</td>\n",
              "      <td>Good</td>\n",
              "    </tr>\n",
              "    <tr>\n",
              "      <th>6</th>\n",
              "      <td>0x1608</td>\n",
              "      <td>CUS_0xd40</td>\n",
              "      <td>July</td>\n",
              "      <td>Aaron Maashoh</td>\n",
              "      <td>23</td>\n",
              "      <td>821-00-0265</td>\n",
              "      <td>Scientist</td>\n",
              "      <td>19114.12</td>\n",
              "      <td>1824.843333</td>\n",
              "      <td>3</td>\n",
              "      <td>...</td>\n",
              "      <td>Good</td>\n",
              "      <td>809.98</td>\n",
              "      <td>22.537593</td>\n",
              "      <td>22 Years and 7 Months</td>\n",
              "      <td>No</td>\n",
              "      <td>49.574949</td>\n",
              "      <td>178.3440674122349</td>\n",
              "      <td>Low_spent_Small_value_payments</td>\n",
              "      <td>244.5653167062043</td>\n",
              "      <td>Good</td>\n",
              "    </tr>\n",
              "    <tr>\n",
              "      <th>7</th>\n",
              "      <td>0x1609</td>\n",
              "      <td>CUS_0xd40</td>\n",
              "      <td>August</td>\n",
              "      <td>NaN</td>\n",
              "      <td>23</td>\n",
              "      <td>#F%$D@*&amp;8</td>\n",
              "      <td>Scientist</td>\n",
              "      <td>19114.12</td>\n",
              "      <td>1824.843333</td>\n",
              "      <td>3</td>\n",
              "      <td>...</td>\n",
              "      <td>Good</td>\n",
              "      <td>809.98</td>\n",
              "      <td>23.933795</td>\n",
              "      <td>NaN</td>\n",
              "      <td>No</td>\n",
              "      <td>49.574949</td>\n",
              "      <td>24.785216509052056</td>\n",
              "      <td>High_spent_Medium_value_payments</td>\n",
              "      <td>358.12416760938714</td>\n",
              "      <td>Standard</td>\n",
              "    </tr>\n",
              "  </tbody>\n",
              "</table>\n",
              "<p>8 rows × 28 columns</p>\n",
              "</div>\n",
              "    <div class=\"colab-df-buttons\">\n",
              "\n",
              "  <div class=\"colab-df-container\">\n",
              "    <button class=\"colab-df-convert\" onclick=\"convertToInteractive('df-63d325f0-b934-4205-b8ff-596fd248bb00')\"\n",
              "            title=\"Convert this dataframe to an interactive table.\"\n",
              "            style=\"display:none;\">\n",
              "\n",
              "  <svg xmlns=\"http://www.w3.org/2000/svg\" height=\"24px\" viewBox=\"0 -960 960 960\">\n",
              "    <path d=\"M120-120v-720h720v720H120Zm60-500h600v-160H180v160Zm220 220h160v-160H400v160Zm0 220h160v-160H400v160ZM180-400h160v-160H180v160Zm440 0h160v-160H620v160ZM180-180h160v-160H180v160Zm440 0h160v-160H620v160Z\"/>\n",
              "  </svg>\n",
              "    </button>\n",
              "\n",
              "  <style>\n",
              "    .colab-df-container {\n",
              "      display:flex;\n",
              "      gap: 12px;\n",
              "    }\n",
              "\n",
              "    .colab-df-convert {\n",
              "      background-color: #E8F0FE;\n",
              "      border: none;\n",
              "      border-radius: 50%;\n",
              "      cursor: pointer;\n",
              "      display: none;\n",
              "      fill: #1967D2;\n",
              "      height: 32px;\n",
              "      padding: 0 0 0 0;\n",
              "      width: 32px;\n",
              "    }\n",
              "\n",
              "    .colab-df-convert:hover {\n",
              "      background-color: #E2EBFA;\n",
              "      box-shadow: 0px 1px 2px rgba(60, 64, 67, 0.3), 0px 1px 3px 1px rgba(60, 64, 67, 0.15);\n",
              "      fill: #174EA6;\n",
              "    }\n",
              "\n",
              "    .colab-df-buttons div {\n",
              "      margin-bottom: 4px;\n",
              "    }\n",
              "\n",
              "    [theme=dark] .colab-df-convert {\n",
              "      background-color: #3B4455;\n",
              "      fill: #D2E3FC;\n",
              "    }\n",
              "\n",
              "    [theme=dark] .colab-df-convert:hover {\n",
              "      background-color: #434B5C;\n",
              "      box-shadow: 0px 1px 3px 1px rgba(0, 0, 0, 0.15);\n",
              "      filter: drop-shadow(0px 1px 2px rgba(0, 0, 0, 0.3));\n",
              "      fill: #FFFFFF;\n",
              "    }\n",
              "  </style>\n",
              "\n",
              "    <script>\n",
              "      const buttonEl =\n",
              "        document.querySelector('#df-63d325f0-b934-4205-b8ff-596fd248bb00 button.colab-df-convert');\n",
              "      buttonEl.style.display =\n",
              "        google.colab.kernel.accessAllowed ? 'block' : 'none';\n",
              "\n",
              "      async function convertToInteractive(key) {\n",
              "        const element = document.querySelector('#df-63d325f0-b934-4205-b8ff-596fd248bb00');\n",
              "        const dataTable =\n",
              "          await google.colab.kernel.invokeFunction('convertToInteractive',\n",
              "                                                    [key], {});\n",
              "        if (!dataTable) return;\n",
              "\n",
              "        const docLinkHtml = 'Like what you see? Visit the ' +\n",
              "          '<a target=\"_blank\" href=https://colab.research.google.com/notebooks/data_table.ipynb>data table notebook</a>'\n",
              "          + ' to learn more about interactive tables.';\n",
              "        element.innerHTML = '';\n",
              "        dataTable['output_type'] = 'display_data';\n",
              "        await google.colab.output.renderOutput(dataTable, element);\n",
              "        const docLink = document.createElement('div');\n",
              "        docLink.innerHTML = docLinkHtml;\n",
              "        element.appendChild(docLink);\n",
              "      }\n",
              "    </script>\n",
              "  </div>\n",
              "\n",
              "\n",
              "<div id=\"df-6d504eaf-8bbe-4e21-a38f-094fa7ac0cf9\">\n",
              "  <button class=\"colab-df-quickchart\" onclick=\"quickchart('df-6d504eaf-8bbe-4e21-a38f-094fa7ac0cf9')\"\n",
              "            title=\"Suggest charts\"\n",
              "            style=\"display:none;\">\n",
              "\n",
              "<svg xmlns=\"http://www.w3.org/2000/svg\" height=\"24px\"viewBox=\"0 0 24 24\"\n",
              "     width=\"24px\">\n",
              "    <g>\n",
              "        <path d=\"M19 3H5c-1.1 0-2 .9-2 2v14c0 1.1.9 2 2 2h14c1.1 0 2-.9 2-2V5c0-1.1-.9-2-2-2zM9 17H7v-7h2v7zm4 0h-2V7h2v10zm4 0h-2v-4h2v4z\"/>\n",
              "    </g>\n",
              "</svg>\n",
              "  </button>\n",
              "\n",
              "<style>\n",
              "  .colab-df-quickchart {\n",
              "      --bg-color: #E8F0FE;\n",
              "      --fill-color: #1967D2;\n",
              "      --hover-bg-color: #E2EBFA;\n",
              "      --hover-fill-color: #174EA6;\n",
              "      --disabled-fill-color: #AAA;\n",
              "      --disabled-bg-color: #DDD;\n",
              "  }\n",
              "\n",
              "  [theme=dark] .colab-df-quickchart {\n",
              "      --bg-color: #3B4455;\n",
              "      --fill-color: #D2E3FC;\n",
              "      --hover-bg-color: #434B5C;\n",
              "      --hover-fill-color: #FFFFFF;\n",
              "      --disabled-bg-color: #3B4455;\n",
              "      --disabled-fill-color: #666;\n",
              "  }\n",
              "\n",
              "  .colab-df-quickchart {\n",
              "    background-color: var(--bg-color);\n",
              "    border: none;\n",
              "    border-radius: 50%;\n",
              "    cursor: pointer;\n",
              "    display: none;\n",
              "    fill: var(--fill-color);\n",
              "    height: 32px;\n",
              "    padding: 0;\n",
              "    width: 32px;\n",
              "  }\n",
              "\n",
              "  .colab-df-quickchart:hover {\n",
              "    background-color: var(--hover-bg-color);\n",
              "    box-shadow: 0 1px 2px rgba(60, 64, 67, 0.3), 0 1px 3px 1px rgba(60, 64, 67, 0.15);\n",
              "    fill: var(--button-hover-fill-color);\n",
              "  }\n",
              "\n",
              "  .colab-df-quickchart-complete:disabled,\n",
              "  .colab-df-quickchart-complete:disabled:hover {\n",
              "    background-color: var(--disabled-bg-color);\n",
              "    fill: var(--disabled-fill-color);\n",
              "    box-shadow: none;\n",
              "  }\n",
              "\n",
              "  .colab-df-spinner {\n",
              "    border: 2px solid var(--fill-color);\n",
              "    border-color: transparent;\n",
              "    border-bottom-color: var(--fill-color);\n",
              "    animation:\n",
              "      spin 1s steps(1) infinite;\n",
              "  }\n",
              "\n",
              "  @keyframes spin {\n",
              "    0% {\n",
              "      border-color: transparent;\n",
              "      border-bottom-color: var(--fill-color);\n",
              "      border-left-color: var(--fill-color);\n",
              "    }\n",
              "    20% {\n",
              "      border-color: transparent;\n",
              "      border-left-color: var(--fill-color);\n",
              "      border-top-color: var(--fill-color);\n",
              "    }\n",
              "    30% {\n",
              "      border-color: transparent;\n",
              "      border-left-color: var(--fill-color);\n",
              "      border-top-color: var(--fill-color);\n",
              "      border-right-color: var(--fill-color);\n",
              "    }\n",
              "    40% {\n",
              "      border-color: transparent;\n",
              "      border-right-color: var(--fill-color);\n",
              "      border-top-color: var(--fill-color);\n",
              "    }\n",
              "    60% {\n",
              "      border-color: transparent;\n",
              "      border-right-color: var(--fill-color);\n",
              "    }\n",
              "    80% {\n",
              "      border-color: transparent;\n",
              "      border-right-color: var(--fill-color);\n",
              "      border-bottom-color: var(--fill-color);\n",
              "    }\n",
              "    90% {\n",
              "      border-color: transparent;\n",
              "      border-bottom-color: var(--fill-color);\n",
              "    }\n",
              "  }\n",
              "</style>\n",
              "\n",
              "  <script>\n",
              "    async function quickchart(key) {\n",
              "      const quickchartButtonEl =\n",
              "        document.querySelector('#' + key + ' button');\n",
              "      quickchartButtonEl.disabled = true;  // To prevent multiple clicks.\n",
              "      quickchartButtonEl.classList.add('colab-df-spinner');\n",
              "      try {\n",
              "        const charts = await google.colab.kernel.invokeFunction(\n",
              "            'suggestCharts', [key], {});\n",
              "      } catch (error) {\n",
              "        console.error('Error during call to suggestCharts:', error);\n",
              "      }\n",
              "      quickchartButtonEl.classList.remove('colab-df-spinner');\n",
              "      quickchartButtonEl.classList.add('colab-df-quickchart-complete');\n",
              "    }\n",
              "    (() => {\n",
              "      let quickchartButtonEl =\n",
              "        document.querySelector('#df-6d504eaf-8bbe-4e21-a38f-094fa7ac0cf9 button');\n",
              "      quickchartButtonEl.style.display =\n",
              "        google.colab.kernel.accessAllowed ? 'block' : 'none';\n",
              "    })();\n",
              "  </script>\n",
              "</div>\n",
              "    </div>\n",
              "  </div>\n"
            ],
            "application/vnd.google.colaboratory.intrinsic+json": {
              "type": "dataframe"
            }
          },
          "metadata": {},
          "execution_count": 8
        }
      ]
    },
    {
      "cell_type": "code",
      "source": [
        "# @title Analisis deskriftif\n",
        "train.describe()"
      ],
      "metadata": {
        "id": "KEt1OfeUKENm",
        "colab": {
          "base_uri": "https://localhost:8080/",
          "height": 300
        },
        "outputId": "1645f7e5-fb7d-45d7-cde8-f56efc4b0e2d"
      },
      "execution_count": 9,
      "outputs": [
        {
          "output_type": "execute_result",
          "data": {
            "text/plain": [
              "       Monthly_Inhand_Salary  Num_Bank_Accounts  Num_Credit_Card  \\\n",
              "count           84998.000000      100000.000000     100000.00000   \n",
              "mean             4194.170850          17.091280         22.47443   \n",
              "std              3183.686167         117.404834        129.05741   \n",
              "min               303.645417          -1.000000          0.00000   \n",
              "25%              1625.568229           3.000000          4.00000   \n",
              "50%              3093.745000           6.000000          5.00000   \n",
              "75%              5957.448333           7.000000          7.00000   \n",
              "max             15204.633333        1798.000000       1499.00000   \n",
              "\n",
              "       Interest_Rate  Delay_from_due_date  Num_Credit_Inquiries  \\\n",
              "count  100000.000000        100000.000000          98035.000000   \n",
              "mean       72.466040            21.068780             27.754251   \n",
              "std       466.422621            14.860104            193.177339   \n",
              "min         1.000000            -5.000000              0.000000   \n",
              "25%         8.000000            10.000000              3.000000   \n",
              "50%        13.000000            18.000000              6.000000   \n",
              "75%        20.000000            28.000000              9.000000   \n",
              "max      5797.000000            67.000000           2597.000000   \n",
              "\n",
              "       Credit_Utilization_Ratio  Total_EMI_per_month  \n",
              "count             100000.000000        100000.000000  \n",
              "mean                  32.285173          1403.118217  \n",
              "std                    5.116875          8306.041270  \n",
              "min                   20.000000             0.000000  \n",
              "25%                   28.052567            30.306660  \n",
              "50%                   32.305784            69.249473  \n",
              "75%                   36.496663           161.224249  \n",
              "max                   50.000000         82331.000000  "
            ],
            "text/html": [
              "\n",
              "  <div id=\"df-6186d8a8-8b65-419d-8df5-7642f93daa25\" class=\"colab-df-container\">\n",
              "    <div>\n",
              "<style scoped>\n",
              "    .dataframe tbody tr th:only-of-type {\n",
              "        vertical-align: middle;\n",
              "    }\n",
              "\n",
              "    .dataframe tbody tr th {\n",
              "        vertical-align: top;\n",
              "    }\n",
              "\n",
              "    .dataframe thead th {\n",
              "        text-align: right;\n",
              "    }\n",
              "</style>\n",
              "<table border=\"1\" class=\"dataframe\">\n",
              "  <thead>\n",
              "    <tr style=\"text-align: right;\">\n",
              "      <th></th>\n",
              "      <th>Monthly_Inhand_Salary</th>\n",
              "      <th>Num_Bank_Accounts</th>\n",
              "      <th>Num_Credit_Card</th>\n",
              "      <th>Interest_Rate</th>\n",
              "      <th>Delay_from_due_date</th>\n",
              "      <th>Num_Credit_Inquiries</th>\n",
              "      <th>Credit_Utilization_Ratio</th>\n",
              "      <th>Total_EMI_per_month</th>\n",
              "    </tr>\n",
              "  </thead>\n",
              "  <tbody>\n",
              "    <tr>\n",
              "      <th>count</th>\n",
              "      <td>84998.000000</td>\n",
              "      <td>100000.000000</td>\n",
              "      <td>100000.00000</td>\n",
              "      <td>100000.000000</td>\n",
              "      <td>100000.000000</td>\n",
              "      <td>98035.000000</td>\n",
              "      <td>100000.000000</td>\n",
              "      <td>100000.000000</td>\n",
              "    </tr>\n",
              "    <tr>\n",
              "      <th>mean</th>\n",
              "      <td>4194.170850</td>\n",
              "      <td>17.091280</td>\n",
              "      <td>22.47443</td>\n",
              "      <td>72.466040</td>\n",
              "      <td>21.068780</td>\n",
              "      <td>27.754251</td>\n",
              "      <td>32.285173</td>\n",
              "      <td>1403.118217</td>\n",
              "    </tr>\n",
              "    <tr>\n",
              "      <th>std</th>\n",
              "      <td>3183.686167</td>\n",
              "      <td>117.404834</td>\n",
              "      <td>129.05741</td>\n",
              "      <td>466.422621</td>\n",
              "      <td>14.860104</td>\n",
              "      <td>193.177339</td>\n",
              "      <td>5.116875</td>\n",
              "      <td>8306.041270</td>\n",
              "    </tr>\n",
              "    <tr>\n",
              "      <th>min</th>\n",
              "      <td>303.645417</td>\n",
              "      <td>-1.000000</td>\n",
              "      <td>0.00000</td>\n",
              "      <td>1.000000</td>\n",
              "      <td>-5.000000</td>\n",
              "      <td>0.000000</td>\n",
              "      <td>20.000000</td>\n",
              "      <td>0.000000</td>\n",
              "    </tr>\n",
              "    <tr>\n",
              "      <th>25%</th>\n",
              "      <td>1625.568229</td>\n",
              "      <td>3.000000</td>\n",
              "      <td>4.00000</td>\n",
              "      <td>8.000000</td>\n",
              "      <td>10.000000</td>\n",
              "      <td>3.000000</td>\n",
              "      <td>28.052567</td>\n",
              "      <td>30.306660</td>\n",
              "    </tr>\n",
              "    <tr>\n",
              "      <th>50%</th>\n",
              "      <td>3093.745000</td>\n",
              "      <td>6.000000</td>\n",
              "      <td>5.00000</td>\n",
              "      <td>13.000000</td>\n",
              "      <td>18.000000</td>\n",
              "      <td>6.000000</td>\n",
              "      <td>32.305784</td>\n",
              "      <td>69.249473</td>\n",
              "    </tr>\n",
              "    <tr>\n",
              "      <th>75%</th>\n",
              "      <td>5957.448333</td>\n",
              "      <td>7.000000</td>\n",
              "      <td>7.00000</td>\n",
              "      <td>20.000000</td>\n",
              "      <td>28.000000</td>\n",
              "      <td>9.000000</td>\n",
              "      <td>36.496663</td>\n",
              "      <td>161.224249</td>\n",
              "    </tr>\n",
              "    <tr>\n",
              "      <th>max</th>\n",
              "      <td>15204.633333</td>\n",
              "      <td>1798.000000</td>\n",
              "      <td>1499.00000</td>\n",
              "      <td>5797.000000</td>\n",
              "      <td>67.000000</td>\n",
              "      <td>2597.000000</td>\n",
              "      <td>50.000000</td>\n",
              "      <td>82331.000000</td>\n",
              "    </tr>\n",
              "  </tbody>\n",
              "</table>\n",
              "</div>\n",
              "    <div class=\"colab-df-buttons\">\n",
              "\n",
              "  <div class=\"colab-df-container\">\n",
              "    <button class=\"colab-df-convert\" onclick=\"convertToInteractive('df-6186d8a8-8b65-419d-8df5-7642f93daa25')\"\n",
              "            title=\"Convert this dataframe to an interactive table.\"\n",
              "            style=\"display:none;\">\n",
              "\n",
              "  <svg xmlns=\"http://www.w3.org/2000/svg\" height=\"24px\" viewBox=\"0 -960 960 960\">\n",
              "    <path d=\"M120-120v-720h720v720H120Zm60-500h600v-160H180v160Zm220 220h160v-160H400v160Zm0 220h160v-160H400v160ZM180-400h160v-160H180v160Zm440 0h160v-160H620v160ZM180-180h160v-160H180v160Zm440 0h160v-160H620v160Z\"/>\n",
              "  </svg>\n",
              "    </button>\n",
              "\n",
              "  <style>\n",
              "    .colab-df-container {\n",
              "      display:flex;\n",
              "      gap: 12px;\n",
              "    }\n",
              "\n",
              "    .colab-df-convert {\n",
              "      background-color: #E8F0FE;\n",
              "      border: none;\n",
              "      border-radius: 50%;\n",
              "      cursor: pointer;\n",
              "      display: none;\n",
              "      fill: #1967D2;\n",
              "      height: 32px;\n",
              "      padding: 0 0 0 0;\n",
              "      width: 32px;\n",
              "    }\n",
              "\n",
              "    .colab-df-convert:hover {\n",
              "      background-color: #E2EBFA;\n",
              "      box-shadow: 0px 1px 2px rgba(60, 64, 67, 0.3), 0px 1px 3px 1px rgba(60, 64, 67, 0.15);\n",
              "      fill: #174EA6;\n",
              "    }\n",
              "\n",
              "    .colab-df-buttons div {\n",
              "      margin-bottom: 4px;\n",
              "    }\n",
              "\n",
              "    [theme=dark] .colab-df-convert {\n",
              "      background-color: #3B4455;\n",
              "      fill: #D2E3FC;\n",
              "    }\n",
              "\n",
              "    [theme=dark] .colab-df-convert:hover {\n",
              "      background-color: #434B5C;\n",
              "      box-shadow: 0px 1px 3px 1px rgba(0, 0, 0, 0.15);\n",
              "      filter: drop-shadow(0px 1px 2px rgba(0, 0, 0, 0.3));\n",
              "      fill: #FFFFFF;\n",
              "    }\n",
              "  </style>\n",
              "\n",
              "    <script>\n",
              "      const buttonEl =\n",
              "        document.querySelector('#df-6186d8a8-8b65-419d-8df5-7642f93daa25 button.colab-df-convert');\n",
              "      buttonEl.style.display =\n",
              "        google.colab.kernel.accessAllowed ? 'block' : 'none';\n",
              "\n",
              "      async function convertToInteractive(key) {\n",
              "        const element = document.querySelector('#df-6186d8a8-8b65-419d-8df5-7642f93daa25');\n",
              "        const dataTable =\n",
              "          await google.colab.kernel.invokeFunction('convertToInteractive',\n",
              "                                                    [key], {});\n",
              "        if (!dataTable) return;\n",
              "\n",
              "        const docLinkHtml = 'Like what you see? Visit the ' +\n",
              "          '<a target=\"_blank\" href=https://colab.research.google.com/notebooks/data_table.ipynb>data table notebook</a>'\n",
              "          + ' to learn more about interactive tables.';\n",
              "        element.innerHTML = '';\n",
              "        dataTable['output_type'] = 'display_data';\n",
              "        await google.colab.output.renderOutput(dataTable, element);\n",
              "        const docLink = document.createElement('div');\n",
              "        docLink.innerHTML = docLinkHtml;\n",
              "        element.appendChild(docLink);\n",
              "      }\n",
              "    </script>\n",
              "  </div>\n",
              "\n",
              "\n",
              "<div id=\"df-5683861f-c1f9-4db7-b952-bce275bd47da\">\n",
              "  <button class=\"colab-df-quickchart\" onclick=\"quickchart('df-5683861f-c1f9-4db7-b952-bce275bd47da')\"\n",
              "            title=\"Suggest charts\"\n",
              "            style=\"display:none;\">\n",
              "\n",
              "<svg xmlns=\"http://www.w3.org/2000/svg\" height=\"24px\"viewBox=\"0 0 24 24\"\n",
              "     width=\"24px\">\n",
              "    <g>\n",
              "        <path d=\"M19 3H5c-1.1 0-2 .9-2 2v14c0 1.1.9 2 2 2h14c1.1 0 2-.9 2-2V5c0-1.1-.9-2-2-2zM9 17H7v-7h2v7zm4 0h-2V7h2v10zm4 0h-2v-4h2v4z\"/>\n",
              "    </g>\n",
              "</svg>\n",
              "  </button>\n",
              "\n",
              "<style>\n",
              "  .colab-df-quickchart {\n",
              "      --bg-color: #E8F0FE;\n",
              "      --fill-color: #1967D2;\n",
              "      --hover-bg-color: #E2EBFA;\n",
              "      --hover-fill-color: #174EA6;\n",
              "      --disabled-fill-color: #AAA;\n",
              "      --disabled-bg-color: #DDD;\n",
              "  }\n",
              "\n",
              "  [theme=dark] .colab-df-quickchart {\n",
              "      --bg-color: #3B4455;\n",
              "      --fill-color: #D2E3FC;\n",
              "      --hover-bg-color: #434B5C;\n",
              "      --hover-fill-color: #FFFFFF;\n",
              "      --disabled-bg-color: #3B4455;\n",
              "      --disabled-fill-color: #666;\n",
              "  }\n",
              "\n",
              "  .colab-df-quickchart {\n",
              "    background-color: var(--bg-color);\n",
              "    border: none;\n",
              "    border-radius: 50%;\n",
              "    cursor: pointer;\n",
              "    display: none;\n",
              "    fill: var(--fill-color);\n",
              "    height: 32px;\n",
              "    padding: 0;\n",
              "    width: 32px;\n",
              "  }\n",
              "\n",
              "  .colab-df-quickchart:hover {\n",
              "    background-color: var(--hover-bg-color);\n",
              "    box-shadow: 0 1px 2px rgba(60, 64, 67, 0.3), 0 1px 3px 1px rgba(60, 64, 67, 0.15);\n",
              "    fill: var(--button-hover-fill-color);\n",
              "  }\n",
              "\n",
              "  .colab-df-quickchart-complete:disabled,\n",
              "  .colab-df-quickchart-complete:disabled:hover {\n",
              "    background-color: var(--disabled-bg-color);\n",
              "    fill: var(--disabled-fill-color);\n",
              "    box-shadow: none;\n",
              "  }\n",
              "\n",
              "  .colab-df-spinner {\n",
              "    border: 2px solid var(--fill-color);\n",
              "    border-color: transparent;\n",
              "    border-bottom-color: var(--fill-color);\n",
              "    animation:\n",
              "      spin 1s steps(1) infinite;\n",
              "  }\n",
              "\n",
              "  @keyframes spin {\n",
              "    0% {\n",
              "      border-color: transparent;\n",
              "      border-bottom-color: var(--fill-color);\n",
              "      border-left-color: var(--fill-color);\n",
              "    }\n",
              "    20% {\n",
              "      border-color: transparent;\n",
              "      border-left-color: var(--fill-color);\n",
              "      border-top-color: var(--fill-color);\n",
              "    }\n",
              "    30% {\n",
              "      border-color: transparent;\n",
              "      border-left-color: var(--fill-color);\n",
              "      border-top-color: var(--fill-color);\n",
              "      border-right-color: var(--fill-color);\n",
              "    }\n",
              "    40% {\n",
              "      border-color: transparent;\n",
              "      border-right-color: var(--fill-color);\n",
              "      border-top-color: var(--fill-color);\n",
              "    }\n",
              "    60% {\n",
              "      border-color: transparent;\n",
              "      border-right-color: var(--fill-color);\n",
              "    }\n",
              "    80% {\n",
              "      border-color: transparent;\n",
              "      border-right-color: var(--fill-color);\n",
              "      border-bottom-color: var(--fill-color);\n",
              "    }\n",
              "    90% {\n",
              "      border-color: transparent;\n",
              "      border-bottom-color: var(--fill-color);\n",
              "    }\n",
              "  }\n",
              "</style>\n",
              "\n",
              "  <script>\n",
              "    async function quickchart(key) {\n",
              "      const quickchartButtonEl =\n",
              "        document.querySelector('#' + key + ' button');\n",
              "      quickchartButtonEl.disabled = true;  // To prevent multiple clicks.\n",
              "      quickchartButtonEl.classList.add('colab-df-spinner');\n",
              "      try {\n",
              "        const charts = await google.colab.kernel.invokeFunction(\n",
              "            'suggestCharts', [key], {});\n",
              "      } catch (error) {\n",
              "        console.error('Error during call to suggestCharts:', error);\n",
              "      }\n",
              "      quickchartButtonEl.classList.remove('colab-df-spinner');\n",
              "      quickchartButtonEl.classList.add('colab-df-quickchart-complete');\n",
              "    }\n",
              "    (() => {\n",
              "      let quickchartButtonEl =\n",
              "        document.querySelector('#df-5683861f-c1f9-4db7-b952-bce275bd47da button');\n",
              "      quickchartButtonEl.style.display =\n",
              "        google.colab.kernel.accessAllowed ? 'block' : 'none';\n",
              "    })();\n",
              "  </script>\n",
              "</div>\n",
              "    </div>\n",
              "  </div>\n"
            ],
            "application/vnd.google.colaboratory.intrinsic+json": {
              "type": "dataframe",
              "summary": "{\n  \"name\": \"train\",\n  \"rows\": 8,\n  \"fields\": [\n    {\n      \"column\": \"Monthly_Inhand_Salary\",\n      \"properties\": {\n        \"dtype\": \"number\",\n        \"std\": 28721.02050010101,\n        \"min\": 303.6454166666666,\n        \"max\": 84998.0,\n        \"num_unique_values\": 8,\n        \"samples\": [\n          4194.170849600523,\n          3093.745000000001,\n          84998.0\n        ],\n        \"semantic_type\": \"\",\n        \"description\": \"\"\n      }\n    },\n    {\n      \"column\": \"Num_Bank_Accounts\",\n      \"properties\": {\n        \"dtype\": \"number\",\n        \"std\": 35262.45571123334,\n        \"min\": -1.0,\n        \"max\": 100000.0,\n        \"num_unique_values\": 8,\n        \"samples\": [\n          17.09128,\n          6.0,\n          100000.0\n        ],\n        \"semantic_type\": \"\",\n        \"description\": \"\"\n      }\n    },\n    {\n      \"column\": \"Num_Credit_Card\",\n      \"properties\": {\n        \"dtype\": \"number\",\n        \"std\": 35274.94819246088,\n        \"min\": 0.0,\n        \"max\": 100000.0,\n        \"num_unique_values\": 8,\n        \"samples\": [\n          22.47443,\n          5.0,\n          100000.0\n        ],\n        \"semantic_type\": \"\",\n        \"description\": \"\"\n      }\n    },\n    {\n      \"column\": \"Interest_Rate\",\n      \"properties\": {\n        \"dtype\": \"number\",\n        \"std\": 35090.285071687635,\n        \"min\": 1.0,\n        \"max\": 100000.0,\n        \"num_unique_values\": 8,\n        \"samples\": [\n          72.46604,\n          13.0,\n          100000.0\n        ],\n        \"semantic_type\": \"\",\n        \"description\": \"\"\n      }\n    },\n    {\n      \"column\": \"Delay_from_due_date\",\n      \"properties\": {\n        \"dtype\": \"number\",\n        \"std\": 35347.57054259866,\n        \"min\": -5.0,\n        \"max\": 100000.0,\n        \"num_unique_values\": 8,\n        \"samples\": [\n          21.06878,\n          18.0,\n          100000.0\n        ],\n        \"semantic_type\": \"\",\n        \"description\": \"\"\n      }\n    },\n    {\n      \"column\": \"Num_Credit_Inquiries\",\n      \"properties\": {\n        \"dtype\": \"number\",\n        \"std\": 34529.0265942048,\n        \"min\": 0.0,\n        \"max\": 98035.0,\n        \"num_unique_values\": 8,\n        \"samples\": [\n          27.75425103279441,\n          6.0,\n          98035.0\n        ],\n        \"semantic_type\": \"\",\n        \"description\": \"\"\n      }\n    },\n    {\n      \"column\": \"Credit_Utilization_Ratio\",\n      \"properties\": {\n        \"dtype\": \"number\",\n        \"std\": 35345.024886297695,\n        \"min\": 5.116875070150906,\n        \"max\": 100000.0,\n        \"num_unique_values\": 8,\n        \"samples\": [\n          32.2851725189436,\n          32.30578367171092,\n          100000.0\n        ],\n        \"semantic_type\": \"\",\n        \"description\": \"\"\n      }\n    },\n    {\n      \"column\": \"Total_EMI_per_month\",\n      \"properties\": {\n        \"dtype\": \"number\",\n        \"std\": 41793.58784756127,\n        \"min\": 0.0,\n        \"max\": 100000.0,\n        \"num_unique_values\": 8,\n        \"samples\": [\n          1403.1182166159933,\n          69.24947329972044,\n          100000.0\n        ],\n        \"semantic_type\": \"\",\n        \"description\": \"\"\n      }\n    }\n  ]\n}"
            }
          },
          "metadata": {},
          "execution_count": 9
        }
      ]
    },
    {
      "cell_type": "code",
      "source": [
        "# @title Mengecek Nilai Negatif\n",
        "# Menghitung jumlah nilai yang bukan nol dalam setiap kolom\n",
        "jumlah_non_zero = train.any().sum()\n",
        "\n",
        "# Menampilkan hasil dalam bentuk data\n",
        "data_hasil = pd.DataFrame({'Kolom': train.columns, 'Jumlah Non-Zero': [train[col].astype(bool).sum() for col in train.columns]})\n",
        "print(data_hasil)"
      ],
      "metadata": {
        "colab": {
          "base_uri": "https://localhost:8080/"
        },
        "id": "bvb-OIK9odx8",
        "outputId": "1f0c9f2a-717d-49fd-ec53-05fb41d4cce0"
      },
      "execution_count": 10,
      "outputs": [
        {
          "output_type": "stream",
          "name": "stdout",
          "text": [
            "                       Kolom  Jumlah Non-Zero\n",
            "0                         ID           100000\n",
            "1                Customer_ID           100000\n",
            "2                      Month           100000\n",
            "3                       Name           100000\n",
            "4                        Age           100000\n",
            "5                        SSN           100000\n",
            "6                 Occupation           100000\n",
            "7              Annual_Income           100000\n",
            "8      Monthly_Inhand_Salary           100000\n",
            "9          Num_Bank_Accounts            95672\n",
            "10           Num_Credit_Card            99987\n",
            "11             Interest_Rate           100000\n",
            "12               Num_of_Loan           100000\n",
            "13              Type_of_Loan           100000\n",
            "14       Delay_from_due_date            98805\n",
            "15    Num_of_Delayed_Payment           100000\n",
            "16      Changed_Credit_Limit           100000\n",
            "17      Num_Credit_Inquiries            93028\n",
            "18                Credit_Mix           100000\n",
            "19          Outstanding_Debt           100000\n",
            "20  Credit_Utilization_Ratio           100000\n",
            "21        Credit_History_Age           100000\n",
            "22     Payment_of_Min_Amount           100000\n",
            "23       Total_EMI_per_month            89387\n",
            "24   Amount_invested_monthly           100000\n",
            "25         Payment_Behaviour           100000\n",
            "26           Monthly_Balance           100000\n",
            "27              Credit_Score           100000\n"
          ]
        }
      ]
    },
    {
      "cell_type": "code",
      "source": [
        "# @title Mengecek data yang hilang\n",
        "train.isnull().sum()"
      ],
      "metadata": {
        "id": "i8DcgwtxKOpb",
        "colab": {
          "base_uri": "https://localhost:8080/"
        },
        "outputId": "e8644f8a-198a-40d9-af09-1f76b59f434f"
      },
      "execution_count": 11,
      "outputs": [
        {
          "output_type": "execute_result",
          "data": {
            "text/plain": [
              "ID                              0\n",
              "Customer_ID                     0\n",
              "Month                           0\n",
              "Name                         9985\n",
              "Age                             0\n",
              "SSN                             0\n",
              "Occupation                      0\n",
              "Annual_Income                   0\n",
              "Monthly_Inhand_Salary       15002\n",
              "Num_Bank_Accounts               0\n",
              "Num_Credit_Card                 0\n",
              "Interest_Rate                   0\n",
              "Num_of_Loan                     0\n",
              "Type_of_Loan                11408\n",
              "Delay_from_due_date             0\n",
              "Num_of_Delayed_Payment       7002\n",
              "Changed_Credit_Limit            0\n",
              "Num_Credit_Inquiries         1965\n",
              "Credit_Mix                      0\n",
              "Outstanding_Debt                0\n",
              "Credit_Utilization_Ratio        0\n",
              "Credit_History_Age           9030\n",
              "Payment_of_Min_Amount           0\n",
              "Total_EMI_per_month             0\n",
              "Amount_invested_monthly      4479\n",
              "Payment_Behaviour               0\n",
              "Monthly_Balance              1200\n",
              "Credit_Score                    0\n",
              "dtype: int64"
            ]
          },
          "metadata": {},
          "execution_count": 11
        }
      ]
    },
    {
      "cell_type": "code",
      "source": [
        "# @title Duplikat checking\n",
        "train.duplicated().sum()"
      ],
      "metadata": {
        "id": "ImXznfduKKFX",
        "colab": {
          "base_uri": "https://localhost:8080/"
        },
        "outputId": "74da4231-71d9-40f9-f0dc-6c61811c5ee3"
      },
      "execution_count": 12,
      "outputs": [
        {
          "output_type": "execute_result",
          "data": {
            "text/plain": [
              "0"
            ]
          },
          "metadata": {},
          "execution_count": 12
        }
      ]
    },
    {
      "cell_type": "code",
      "source": [
        "for col in train.columns:\n",
        "    print(f'{col} : {pd.api.types.infer_dtype(train[col])}')"
      ],
      "metadata": {
        "id": "dHCGwWGwKS1B",
        "colab": {
          "base_uri": "https://localhost:8080/"
        },
        "outputId": "152d077a-9425-4f1d-e0e5-3ef9f5be9379"
      },
      "execution_count": 13,
      "outputs": [
        {
          "output_type": "stream",
          "name": "stdout",
          "text": [
            "ID : string\n",
            "Customer_ID : string\n",
            "Month : string\n",
            "Name : string\n",
            "Age : string\n",
            "SSN : string\n",
            "Occupation : string\n",
            "Annual_Income : string\n",
            "Monthly_Inhand_Salary : floating\n",
            "Num_Bank_Accounts : integer\n",
            "Num_Credit_Card : integer\n",
            "Interest_Rate : integer\n",
            "Num_of_Loan : string\n",
            "Type_of_Loan : string\n",
            "Delay_from_due_date : integer\n",
            "Num_of_Delayed_Payment : string\n",
            "Changed_Credit_Limit : string\n",
            "Num_Credit_Inquiries : floating\n",
            "Credit_Mix : string\n",
            "Outstanding_Debt : string\n",
            "Credit_Utilization_Ratio : floating\n",
            "Credit_History_Age : string\n",
            "Payment_of_Min_Amount : string\n",
            "Total_EMI_per_month : floating\n",
            "Amount_invested_monthly : string\n",
            "Payment_Behaviour : string\n",
            "Monthly_Balance : mixed\n",
            "Credit_Score : string\n"
          ]
        }
      ]
    },
    {
      "cell_type": "markdown",
      "source": [
        "# MENGHAPUS DUPLIKAT"
      ],
      "metadata": {
        "id": "-xpPS7IjkICj"
      }
    },
    {
      "cell_type": "code",
      "source": [
        "df = pd.read_csv('/content/drive/MyDrive/train.csv')"
      ],
      "metadata": {
        "colab": {
          "base_uri": "https://localhost:8080/"
        },
        "id": "hBT4oFr5kNcl",
        "outputId": "0f071153-e289-42da-e0c2-d6c189deda64"
      },
      "execution_count": 14,
      "outputs": [
        {
          "output_type": "stream",
          "name": "stderr",
          "text": [
            "<ipython-input-14-c42ad7b9f4e5>:1: DtypeWarning: Columns (26) have mixed types. Specify dtype option on import or set low_memory=False.\n",
            "  df = pd.read_csv('/content/drive/MyDrive/train.csv')\n"
          ]
        }
      ]
    },
    {
      "cell_type": "code",
      "source": [
        "duplikat_sebelum = df[df.duplicated()]"
      ],
      "metadata": {
        "id": "wIwMrufDkhii"
      },
      "execution_count": 15,
      "outputs": []
    },
    {
      "cell_type": "code",
      "source": [
        "df_clean = df.drop_duplicates()"
      ],
      "metadata": {
        "id": "vY3f7oCfkmNz"
      },
      "execution_count": 16,
      "outputs": []
    },
    {
      "cell_type": "code",
      "source": [
        "print(duplikat_sebelum)"
      ],
      "metadata": {
        "colab": {
          "base_uri": "https://localhost:8080/"
        },
        "id": "TpiwSYPgkqev",
        "outputId": "1de1109e-3d30-42ff-c148-6f608c93b877"
      },
      "execution_count": 17,
      "outputs": [
        {
          "output_type": "stream",
          "name": "stdout",
          "text": [
            "Empty DataFrame\n",
            "Columns: [ID, Customer_ID, Month, Name, Age, SSN, Occupation, Annual_Income, Monthly_Inhand_Salary, Num_Bank_Accounts, Num_Credit_Card, Interest_Rate, Num_of_Loan, Type_of_Loan, Delay_from_due_date, Num_of_Delayed_Payment, Changed_Credit_Limit, Num_Credit_Inquiries, Credit_Mix, Outstanding_Debt, Credit_Utilization_Ratio, Credit_History_Age, Payment_of_Min_Amount, Total_EMI_per_month, Amount_invested_monthly, Payment_Behaviour, Monthly_Balance, Credit_Score]\n",
            "Index: []\n",
            "\n",
            "[0 rows x 28 columns]\n"
          ]
        }
      ]
    },
    {
      "cell_type": "code",
      "source": [
        "print(df_clean)"
      ],
      "metadata": {
        "colab": {
          "base_uri": "https://localhost:8080/"
        },
        "id": "OwN37s_lkufl",
        "outputId": "34ab2250-c031-4e19-a9c9-a328685695ac"
      },
      "execution_count": 18,
      "outputs": [
        {
          "output_type": "stream",
          "name": "stdout",
          "text": [
            "            ID Customer_ID     Month           Name   Age          SSN  \\\n",
            "0       0x1602   CUS_0xd40   January  Aaron Maashoh    23  821-00-0265   \n",
            "1       0x1603   CUS_0xd40  February  Aaron Maashoh    23  821-00-0265   \n",
            "2       0x1604   CUS_0xd40     March  Aaron Maashoh  -500  821-00-0265   \n",
            "3       0x1605   CUS_0xd40     April  Aaron Maashoh    23  821-00-0265   \n",
            "4       0x1606   CUS_0xd40       May  Aaron Maashoh    23  821-00-0265   \n",
            "...        ...         ...       ...            ...   ...          ...   \n",
            "99995  0x25fe9  CUS_0x942c     April          Nicks    25  078-73-5990   \n",
            "99996  0x25fea  CUS_0x942c       May          Nicks    25  078-73-5990   \n",
            "99997  0x25feb  CUS_0x942c      June          Nicks    25  078-73-5990   \n",
            "99998  0x25fec  CUS_0x942c      July          Nicks    25  078-73-5990   \n",
            "99999  0x25fed  CUS_0x942c    August          Nicks    25  078-73-5990   \n",
            "\n",
            "      Occupation Annual_Income  Monthly_Inhand_Salary  Num_Bank_Accounts  ...  \\\n",
            "0      Scientist      19114.12            1824.843333                  3  ...   \n",
            "1      Scientist      19114.12                    NaN                  3  ...   \n",
            "2      Scientist      19114.12                    NaN                  3  ...   \n",
            "3      Scientist      19114.12                    NaN                  3  ...   \n",
            "4      Scientist      19114.12            1824.843333                  3  ...   \n",
            "...          ...           ...                    ...                ...  ...   \n",
            "99995   Mechanic      39628.99            3359.415833                  4  ...   \n",
            "99996   Mechanic      39628.99            3359.415833                  4  ...   \n",
            "99997   Mechanic      39628.99            3359.415833                  4  ...   \n",
            "99998   Mechanic      39628.99            3359.415833                  4  ...   \n",
            "99999   Mechanic     39628.99_            3359.415833                  4  ...   \n",
            "\n",
            "       Credit_Mix  Outstanding_Debt Credit_Utilization_Ratio  \\\n",
            "0               _            809.98                26.822620   \n",
            "1            Good            809.98                31.944960   \n",
            "2            Good            809.98                28.609352   \n",
            "3            Good            809.98                31.377862   \n",
            "4            Good            809.98                24.797347   \n",
            "...           ...               ...                      ...   \n",
            "99995           _            502.38                34.663572   \n",
            "99996           _            502.38                40.565631   \n",
            "99997        Good            502.38                41.255522   \n",
            "99998        Good            502.38                33.638208   \n",
            "99999        Good            502.38                34.192463   \n",
            "\n",
            "           Credit_History_Age  Payment_of_Min_Amount Total_EMI_per_month  \\\n",
            "0       22 Years and 1 Months                     No           49.574949   \n",
            "1                         NaN                     No           49.574949   \n",
            "2       22 Years and 3 Months                     No           49.574949   \n",
            "3       22 Years and 4 Months                     No           49.574949   \n",
            "4       22 Years and 5 Months                     No           49.574949   \n",
            "...                       ...                    ...                 ...   \n",
            "99995   31 Years and 6 Months                     No           35.104023   \n",
            "99996   31 Years and 7 Months                     No           35.104023   \n",
            "99997   31 Years and 8 Months                     No           35.104023   \n",
            "99998   31 Years and 9 Months                     No           35.104023   \n",
            "99999  31 Years and 10 Months                     No           35.104023   \n",
            "\n",
            "      Amount_invested_monthly                 Payment_Behaviour  \\\n",
            "0           80.41529543900253   High_spent_Small_value_payments   \n",
            "1          118.28022162236736    Low_spent_Large_value_payments   \n",
            "2             81.699521264648   Low_spent_Medium_value_payments   \n",
            "3           199.4580743910713    Low_spent_Small_value_payments   \n",
            "4          41.420153086217326  High_spent_Medium_value_payments   \n",
            "...                       ...                               ...   \n",
            "99995       60.97133255718485   High_spent_Large_value_payments   \n",
            "99996       54.18595028760385  High_spent_Medium_value_payments   \n",
            "99997       24.02847744864441   High_spent_Large_value_payments   \n",
            "99998      251.67258219721603    Low_spent_Large_value_payments   \n",
            "99999       167.1638651610451                            !@9#%8   \n",
            "\n",
            "          Monthly_Balance Credit_Score  \n",
            "0      312.49408867943663         Good  \n",
            "1      284.62916249607184         Good  \n",
            "2       331.2098628537912         Good  \n",
            "3      223.45130972736786         Good  \n",
            "4      341.48923103222177         Good  \n",
            "...                   ...          ...  \n",
            "99995          479.866228         Poor  \n",
            "99996           496.65161         Poor  \n",
            "99997          516.809083         Poor  \n",
            "99998          319.164979     Standard  \n",
            "99999          393.673696         Poor  \n",
            "\n",
            "[100000 rows x 28 columns]\n"
          ]
        }
      ]
    },
    {
      "cell_type": "markdown",
      "source": [
        "# MENGHAPUS KOLOM"
      ],
      "metadata": {
        "id": "j2czLWoCRw-7"
      }
    },
    {
      "cell_type": "code",
      "source": [
        "train.drop(['ID','Name','SSN','Month'],axis=1,inplace=True)"
      ],
      "metadata": {
        "id": "wYIEq_pQQ6c0"
      },
      "execution_count": 19,
      "outputs": []
    },
    {
      "cell_type": "markdown",
      "source": [
        "# TIPE YANG SALAH"
      ],
      "metadata": {
        "id": "-0-AXxd2SXWz"
      }
    },
    {
      "cell_type": "code",
      "source": [
        "wrong_types = ['Age','Annual_Income','Num_of_Loan','Num_of_Delayed_Payment','Changed_Credit_Limit',\n",
        "               'Outstanding_Debt','Amount_invested_monthly','Monthly_Balance']"
      ],
      "metadata": {
        "id": "lksXAZovR3ex"
      },
      "execution_count": 20,
      "outputs": []
    },
    {
      "cell_type": "code",
      "source": [
        "for col in wrong_types:\n",
        "    if train[col][train[col] == '_'].any():\n",
        "        print(col)"
      ],
      "metadata": {
        "colab": {
          "base_uri": "https://localhost:8080/"
        },
        "id": "1buTm8FySmb4",
        "outputId": "bdb2a02f-1051-4382-bb51-c333eb6dc8c1"
      },
      "execution_count": 21,
      "outputs": [
        {
          "output_type": "stream",
          "name": "stdout",
          "text": [
            "Changed_Credit_Limit\n"
          ]
        }
      ]
    },
    {
      "cell_type": "code",
      "source": [
        "train.loc[train.Changed_Credit_Limit == '_','Changed_Credit_Limit'] = np.nan"
      ],
      "metadata": {
        "id": "KxurfIs6SnW1"
      },
      "execution_count": 22,
      "outputs": []
    },
    {
      "cell_type": "code",
      "source": [
        "for col in wrong_types:\n",
        "    train[col] = train[col].str.replace('_','').astype('float64')"
      ],
      "metadata": {
        "id": "AJ4HOwweSrec"
      },
      "execution_count": 23,
      "outputs": []
    },
    {
      "cell_type": "code",
      "source": [
        "train.dtypes"
      ],
      "metadata": {
        "colab": {
          "base_uri": "https://localhost:8080/"
        },
        "id": "10Ouey-fStz5",
        "outputId": "6ff56d2b-6ae4-4906-c803-af29b32d6d49"
      },
      "execution_count": 24,
      "outputs": [
        {
          "output_type": "execute_result",
          "data": {
            "text/plain": [
              "Customer_ID                  object\n",
              "Age                         float64\n",
              "Occupation                   object\n",
              "Annual_Income               float64\n",
              "Monthly_Inhand_Salary       float64\n",
              "Num_Bank_Accounts             int64\n",
              "Num_Credit_Card               int64\n",
              "Interest_Rate                 int64\n",
              "Num_of_Loan                 float64\n",
              "Type_of_Loan                 object\n",
              "Delay_from_due_date           int64\n",
              "Num_of_Delayed_Payment      float64\n",
              "Changed_Credit_Limit        float64\n",
              "Num_Credit_Inquiries        float64\n",
              "Credit_Mix                   object\n",
              "Outstanding_Debt            float64\n",
              "Credit_Utilization_Ratio    float64\n",
              "Credit_History_Age           object\n",
              "Payment_of_Min_Amount        object\n",
              "Total_EMI_per_month         float64\n",
              "Amount_invested_monthly     float64\n",
              "Payment_Behaviour            object\n",
              "Monthly_Balance             float64\n",
              "Credit_Score                 object\n",
              "dtype: object"
            ]
          },
          "metadata": {},
          "execution_count": 24
        }
      ]
    },
    {
      "cell_type": "markdown",
      "source": [
        "# MEMISAHKAN DAN MENGISI KOLOM"
      ],
      "metadata": {
        "id": "KmfpgoZ8SxYX"
      }
    },
    {
      "cell_type": "code",
      "source": [
        "numerical = train.select_dtypes(include=['float64','int64']).columns\n",
        "numerical\n"
      ],
      "metadata": {
        "colab": {
          "base_uri": "https://localhost:8080/"
        },
        "id": "N8zsQKmDS2qu",
        "outputId": "9ab81a52-29bb-438a-da9d-cd8bfba58d6c"
      },
      "execution_count": 25,
      "outputs": [
        {
          "output_type": "execute_result",
          "data": {
            "text/plain": [
              "Index(['Age', 'Annual_Income', 'Monthly_Inhand_Salary', 'Num_Bank_Accounts',\n",
              "       'Num_Credit_Card', 'Interest_Rate', 'Num_of_Loan',\n",
              "       'Delay_from_due_date', 'Num_of_Delayed_Payment', 'Changed_Credit_Limit',\n",
              "       'Num_Credit_Inquiries', 'Outstanding_Debt', 'Credit_Utilization_Ratio',\n",
              "       'Total_EMI_per_month', 'Amount_invested_monthly', 'Monthly_Balance'],\n",
              "      dtype='object')"
            ]
          },
          "metadata": {},
          "execution_count": 25
        }
      ]
    },
    {
      "cell_type": "code",
      "source": [
        "categorical = train.select_dtypes(include=['object']).columns\n",
        "categorical"
      ],
      "metadata": {
        "colab": {
          "base_uri": "https://localhost:8080/"
        },
        "id": "75sxGH1YW9EB",
        "outputId": "0764373e-4567-4d4d-d9e7-32d295bea3ea"
      },
      "execution_count": 26,
      "outputs": [
        {
          "output_type": "execute_result",
          "data": {
            "text/plain": [
              "Index(['Customer_ID', 'Occupation', 'Type_of_Loan', 'Credit_Mix',\n",
              "       'Credit_History_Age', 'Payment_of_Min_Amount', 'Payment_Behaviour',\n",
              "       'Credit_Score'],\n",
              "      dtype='object')"
            ]
          },
          "metadata": {},
          "execution_count": 26
        }
      ]
    },
    {
      "cell_type": "code",
      "source": [
        "(train.Customer_ID.value_counts() != 8).any()#each customer has 8 records"
      ],
      "metadata": {
        "colab": {
          "base_uri": "https://localhost:8080/"
        },
        "id": "Z_9wj8iZW-IJ",
        "outputId": "7aead995-8bdf-4949-be8a-64128b9ad46f"
      },
      "execution_count": 27,
      "outputs": [
        {
          "output_type": "execute_result",
          "data": {
            "text/plain": [
              "False"
            ]
          },
          "metadata": {},
          "execution_count": 27
        }
      ]
    },
    {
      "cell_type": "code",
      "source": [
        "(train.Customer_ID.value_counts() == 8).sum()#number of customers"
      ],
      "metadata": {
        "colab": {
          "base_uri": "https://localhost:8080/"
        },
        "id": "oEd5OAu_W_Fn",
        "outputId": "42bf0a93-c367-44d7-e7e0-99277eff1a67"
      },
      "execution_count": 28,
      "outputs": [
        {
          "output_type": "execute_result",
          "data": {
            "text/plain": [
              "12500"
            ]
          },
          "metadata": {},
          "execution_count": 28
        }
      ]
    },
    {
      "cell_type": "markdown",
      "source": [
        "**Usia, Pendapatan_Tahunan, dan Pekerjaan ditetapkan untuk setiap pelanggan**"
      ],
      "metadata": {
        "id": "PSZGt1Rdat2C"
      }
    },
    {
      "cell_type": "code",
      "source": [
        "train.Age = train.groupby('Customer_ID').Age.transform(lambda x : x.mode()[0])\n",
        "train.Annual_Income = train.groupby('Customer_ID').Annual_Income.transform(lambda x : x.mode()[0])\n",
        "train.Occupation = train.groupby('Customer_ID').Occupation.transform(lambda x : x.mode()[0])"
      ],
      "metadata": {
        "id": "3_QSwO8BToow"
      },
      "execution_count": 29,
      "outputs": []
    },
    {
      "cell_type": "code",
      "source": [
        "for col in numerical:\n",
        "    if train[col][train[col] < 0].any():\n",
        "        print(col,len(train[col][train[col] < 0]))"
      ],
      "metadata": {
        "colab": {
          "base_uri": "https://localhost:8080/"
        },
        "id": "m5oo1qByXEnw",
        "outputId": "3fade9f3-fd89-4c1c-e484-6f147201d6ba"
      },
      "execution_count": 30,
      "outputs": [
        {
          "output_type": "stream",
          "name": "stdout",
          "text": [
            "Num_Bank_Accounts 21\n",
            "Num_of_Loan 3876\n",
            "Delay_from_due_date 591\n",
            "Num_of_Delayed_Payment 644\n",
            "Changed_Credit_Limit 1586\n",
            "Monthly_Balance 9\n"
          ]
        }
      ]
    },
    {
      "cell_type": "code",
      "source": [
        "train.Num_Bank_Accounts[train.Num_Bank_Accounts < 0].value_counts()#always -1 so it's definitely a mistake"
      ],
      "metadata": {
        "colab": {
          "base_uri": "https://localhost:8080/"
        },
        "id": "mcC90pxTXZEv",
        "outputId": "73d86fa0-df68-411d-9ae9-bdddcd56add1"
      },
      "execution_count": 31,
      "outputs": [
        {
          "output_type": "execute_result",
          "data": {
            "text/plain": [
              "Num_Bank_Accounts\n",
              "-1    21\n",
              "Name: count, dtype: int64"
            ]
          },
          "metadata": {},
          "execution_count": 31
        }
      ]
    },
    {
      "cell_type": "code",
      "source": [
        "train.drop(train[train.Num_Bank_Accounts < 0].index,inplace=True)"
      ],
      "metadata": {
        "id": "SzTWOF9WXgs2"
      },
      "execution_count": 32,
      "outputs": []
    },
    {
      "cell_type": "code",
      "source": [
        "train.Num_of_Loan[train.Num_of_Loan<0].value_counts()#always -100 so it's definitely a mistake"
      ],
      "metadata": {
        "colab": {
          "base_uri": "https://localhost:8080/"
        },
        "id": "az0_LRPYXmz8",
        "outputId": "fce21ecf-811b-476b-b186-0c80fc66b014"
      },
      "execution_count": 33,
      "outputs": [
        {
          "output_type": "execute_result",
          "data": {
            "text/plain": [
              "Num_of_Loan\n",
              "-100.0    3875\n",
              "Name: count, dtype: int64"
            ]
          },
          "metadata": {},
          "execution_count": 33
        }
      ]
    },
    {
      "cell_type": "code",
      "source": [
        "train.drop(train[train.Num_of_Loan < 0].index,inplace=True)"
      ],
      "metadata": {
        "id": "KWQwK4MMXzpY"
      },
      "execution_count": 34,
      "outputs": []
    },
    {
      "cell_type": "code",
      "source": [
        "train.reset_index(drop=True,inplace=True)"
      ],
      "metadata": {
        "id": "Ttc_u8kQX18q"
      },
      "execution_count": 35,
      "outputs": []
    },
    {
      "cell_type": "code",
      "source": [
        "for col in numerical:\n",
        "    if train[col][train[col] < 0].any():\n",
        "        print(col,len(train[col][train[col] < 0]))"
      ],
      "metadata": {
        "colab": {
          "base_uri": "https://localhost:8080/"
        },
        "id": "OOGByibuX3AP",
        "outputId": "46d7dc59-a369-4b75-d436-92d23dacbbe5"
      },
      "execution_count": 36,
      "outputs": [
        {
          "output_type": "stream",
          "name": "stdout",
          "text": [
            "Delay_from_due_date 559\n",
            "Num_of_Delayed_Payment 616\n",
            "Changed_Credit_Limit 1525\n",
            "Monthly_Balance 9\n"
          ]
        }
      ]
    },
    {
      "cell_type": "code",
      "source": [
        "train.describe()"
      ],
      "metadata": {
        "colab": {
          "base_uri": "https://localhost:8080/",
          "height": 320
        },
        "id": "bzGaAB0QX6is",
        "outputId": "fc3b37e9-7f95-4039-9417-810d405c8d32"
      },
      "execution_count": 37,
      "outputs": [
        {
          "output_type": "execute_result",
          "data": {
            "text/plain": [
              "                Age  Annual_Income  Monthly_Inhand_Salary  Num_Bank_Accounts  \\\n",
              "count  96104.000000   96104.000000           81685.000000       96104.000000   \n",
              "mean      33.270707   50506.790217            4194.711239          17.096541   \n",
              "std       10.765046   38317.243974            3185.309650         117.309614   \n",
              "min       14.000000    7005.930000             303.645417           0.000000   \n",
              "25%       24.000000   19337.160000            1625.188333           3.000000   \n",
              "50%       33.000000   36993.940000            3091.386667           6.000000   \n",
              "75%       42.000000   71681.400000            5957.448333           7.000000   \n",
              "max       56.000000  179987.280000           15204.633333        1798.000000   \n",
              "\n",
              "       Num_Credit_Card  Interest_Rate   Num_of_Loan  Delay_from_due_date  \\\n",
              "count     96104.000000   96104.000000  96104.000000         96104.000000   \n",
              "mean         22.527606      72.354460      7.164832            21.072650   \n",
              "std         129.298964     466.483097     60.321139            14.861229   \n",
              "min           0.000000       1.000000      0.000000            -5.000000   \n",
              "25%           4.000000       8.000000      2.000000            10.000000   \n",
              "50%           5.000000      13.000000      3.000000            18.000000   \n",
              "75%           7.000000      20.000000      5.000000            28.000000   \n",
              "max        1499.000000    5797.000000   1496.000000            67.000000   \n",
              "\n",
              "       Num_of_Delayed_Payment  Changed_Credit_Limit  Num_Credit_Inquiries  \\\n",
              "count            89405.000000          94092.000000          94216.000000   \n",
              "mean                31.134489             10.394152             27.743090   \n",
              "std                227.266979              6.795080            192.969963   \n",
              "min                 -3.000000             -6.490000              0.000000   \n",
              "25%                  9.000000              5.320000              3.000000   \n",
              "50%                 14.000000              9.410000              6.000000   \n",
              "75%                 18.000000             14.890000              9.000000   \n",
              "max               4397.000000             36.490000           2597.000000   \n",
              "\n",
              "       Outstanding_Debt  Credit_Utilization_Ratio  Total_EMI_per_month  \\\n",
              "count      96104.000000              96104.000000         96104.000000   \n",
              "mean        1427.106101                 32.288118          1409.238408   \n",
              "std         1155.957167                  5.114835          8324.403859   \n",
              "min            0.230000                 20.000000             0.000000   \n",
              "25%          566.022500                 28.060916            30.305498   \n",
              "50%         1166.640000                 32.307331            69.246684   \n",
              "75%         1948.980000                 36.500450           161.340704   \n",
              "max         4998.070000                 50.000000         82331.000000   \n",
              "\n",
              "       Amount_invested_monthly  Monthly_Balance  \n",
              "count             91796.000000     9.334300e+04  \n",
              "mean                636.061659    -3.213953e+22  \n",
              "std                2040.035325     3.272959e+24  \n",
              "min                   0.000000    -3.333333e+26  \n",
              "25%                  74.549548     2.698778e+02  \n",
              "50%                 135.821176     3.364020e+02  \n",
              "75%                 265.579429     4.694649e+02  \n",
              "max               10000.000000     1.602041e+03  "
            ],
            "text/html": [
              "\n",
              "  <div id=\"df-b13288f5-f797-47c8-8044-e6c5cb986ce0\" class=\"colab-df-container\">\n",
              "    <div>\n",
              "<style scoped>\n",
              "    .dataframe tbody tr th:only-of-type {\n",
              "        vertical-align: middle;\n",
              "    }\n",
              "\n",
              "    .dataframe tbody tr th {\n",
              "        vertical-align: top;\n",
              "    }\n",
              "\n",
              "    .dataframe thead th {\n",
              "        text-align: right;\n",
              "    }\n",
              "</style>\n",
              "<table border=\"1\" class=\"dataframe\">\n",
              "  <thead>\n",
              "    <tr style=\"text-align: right;\">\n",
              "      <th></th>\n",
              "      <th>Age</th>\n",
              "      <th>Annual_Income</th>\n",
              "      <th>Monthly_Inhand_Salary</th>\n",
              "      <th>Num_Bank_Accounts</th>\n",
              "      <th>Num_Credit_Card</th>\n",
              "      <th>Interest_Rate</th>\n",
              "      <th>Num_of_Loan</th>\n",
              "      <th>Delay_from_due_date</th>\n",
              "      <th>Num_of_Delayed_Payment</th>\n",
              "      <th>Changed_Credit_Limit</th>\n",
              "      <th>Num_Credit_Inquiries</th>\n",
              "      <th>Outstanding_Debt</th>\n",
              "      <th>Credit_Utilization_Ratio</th>\n",
              "      <th>Total_EMI_per_month</th>\n",
              "      <th>Amount_invested_monthly</th>\n",
              "      <th>Monthly_Balance</th>\n",
              "    </tr>\n",
              "  </thead>\n",
              "  <tbody>\n",
              "    <tr>\n",
              "      <th>count</th>\n",
              "      <td>96104.000000</td>\n",
              "      <td>96104.000000</td>\n",
              "      <td>81685.000000</td>\n",
              "      <td>96104.000000</td>\n",
              "      <td>96104.000000</td>\n",
              "      <td>96104.000000</td>\n",
              "      <td>96104.000000</td>\n",
              "      <td>96104.000000</td>\n",
              "      <td>89405.000000</td>\n",
              "      <td>94092.000000</td>\n",
              "      <td>94216.000000</td>\n",
              "      <td>96104.000000</td>\n",
              "      <td>96104.000000</td>\n",
              "      <td>96104.000000</td>\n",
              "      <td>91796.000000</td>\n",
              "      <td>9.334300e+04</td>\n",
              "    </tr>\n",
              "    <tr>\n",
              "      <th>mean</th>\n",
              "      <td>33.270707</td>\n",
              "      <td>50506.790217</td>\n",
              "      <td>4194.711239</td>\n",
              "      <td>17.096541</td>\n",
              "      <td>22.527606</td>\n",
              "      <td>72.354460</td>\n",
              "      <td>7.164832</td>\n",
              "      <td>21.072650</td>\n",
              "      <td>31.134489</td>\n",
              "      <td>10.394152</td>\n",
              "      <td>27.743090</td>\n",
              "      <td>1427.106101</td>\n",
              "      <td>32.288118</td>\n",
              "      <td>1409.238408</td>\n",
              "      <td>636.061659</td>\n",
              "      <td>-3.213953e+22</td>\n",
              "    </tr>\n",
              "    <tr>\n",
              "      <th>std</th>\n",
              "      <td>10.765046</td>\n",
              "      <td>38317.243974</td>\n",
              "      <td>3185.309650</td>\n",
              "      <td>117.309614</td>\n",
              "      <td>129.298964</td>\n",
              "      <td>466.483097</td>\n",
              "      <td>60.321139</td>\n",
              "      <td>14.861229</td>\n",
              "      <td>227.266979</td>\n",
              "      <td>6.795080</td>\n",
              "      <td>192.969963</td>\n",
              "      <td>1155.957167</td>\n",
              "      <td>5.114835</td>\n",
              "      <td>8324.403859</td>\n",
              "      <td>2040.035325</td>\n",
              "      <td>3.272959e+24</td>\n",
              "    </tr>\n",
              "    <tr>\n",
              "      <th>min</th>\n",
              "      <td>14.000000</td>\n",
              "      <td>7005.930000</td>\n",
              "      <td>303.645417</td>\n",
              "      <td>0.000000</td>\n",
              "      <td>0.000000</td>\n",
              "      <td>1.000000</td>\n",
              "      <td>0.000000</td>\n",
              "      <td>-5.000000</td>\n",
              "      <td>-3.000000</td>\n",
              "      <td>-6.490000</td>\n",
              "      <td>0.000000</td>\n",
              "      <td>0.230000</td>\n",
              "      <td>20.000000</td>\n",
              "      <td>0.000000</td>\n",
              "      <td>0.000000</td>\n",
              "      <td>-3.333333e+26</td>\n",
              "    </tr>\n",
              "    <tr>\n",
              "      <th>25%</th>\n",
              "      <td>24.000000</td>\n",
              "      <td>19337.160000</td>\n",
              "      <td>1625.188333</td>\n",
              "      <td>3.000000</td>\n",
              "      <td>4.000000</td>\n",
              "      <td>8.000000</td>\n",
              "      <td>2.000000</td>\n",
              "      <td>10.000000</td>\n",
              "      <td>9.000000</td>\n",
              "      <td>5.320000</td>\n",
              "      <td>3.000000</td>\n",
              "      <td>566.022500</td>\n",
              "      <td>28.060916</td>\n",
              "      <td>30.305498</td>\n",
              "      <td>74.549548</td>\n",
              "      <td>2.698778e+02</td>\n",
              "    </tr>\n",
              "    <tr>\n",
              "      <th>50%</th>\n",
              "      <td>33.000000</td>\n",
              "      <td>36993.940000</td>\n",
              "      <td>3091.386667</td>\n",
              "      <td>6.000000</td>\n",
              "      <td>5.000000</td>\n",
              "      <td>13.000000</td>\n",
              "      <td>3.000000</td>\n",
              "      <td>18.000000</td>\n",
              "      <td>14.000000</td>\n",
              "      <td>9.410000</td>\n",
              "      <td>6.000000</td>\n",
              "      <td>1166.640000</td>\n",
              "      <td>32.307331</td>\n",
              "      <td>69.246684</td>\n",
              "      <td>135.821176</td>\n",
              "      <td>3.364020e+02</td>\n",
              "    </tr>\n",
              "    <tr>\n",
              "      <th>75%</th>\n",
              "      <td>42.000000</td>\n",
              "      <td>71681.400000</td>\n",
              "      <td>5957.448333</td>\n",
              "      <td>7.000000</td>\n",
              "      <td>7.000000</td>\n",
              "      <td>20.000000</td>\n",
              "      <td>5.000000</td>\n",
              "      <td>28.000000</td>\n",
              "      <td>18.000000</td>\n",
              "      <td>14.890000</td>\n",
              "      <td>9.000000</td>\n",
              "      <td>1948.980000</td>\n",
              "      <td>36.500450</td>\n",
              "      <td>161.340704</td>\n",
              "      <td>265.579429</td>\n",
              "      <td>4.694649e+02</td>\n",
              "    </tr>\n",
              "    <tr>\n",
              "      <th>max</th>\n",
              "      <td>56.000000</td>\n",
              "      <td>179987.280000</td>\n",
              "      <td>15204.633333</td>\n",
              "      <td>1798.000000</td>\n",
              "      <td>1499.000000</td>\n",
              "      <td>5797.000000</td>\n",
              "      <td>1496.000000</td>\n",
              "      <td>67.000000</td>\n",
              "      <td>4397.000000</td>\n",
              "      <td>36.490000</td>\n",
              "      <td>2597.000000</td>\n",
              "      <td>4998.070000</td>\n",
              "      <td>50.000000</td>\n",
              "      <td>82331.000000</td>\n",
              "      <td>10000.000000</td>\n",
              "      <td>1.602041e+03</td>\n",
              "    </tr>\n",
              "  </tbody>\n",
              "</table>\n",
              "</div>\n",
              "    <div class=\"colab-df-buttons\">\n",
              "\n",
              "  <div class=\"colab-df-container\">\n",
              "    <button class=\"colab-df-convert\" onclick=\"convertToInteractive('df-b13288f5-f797-47c8-8044-e6c5cb986ce0')\"\n",
              "            title=\"Convert this dataframe to an interactive table.\"\n",
              "            style=\"display:none;\">\n",
              "\n",
              "  <svg xmlns=\"http://www.w3.org/2000/svg\" height=\"24px\" viewBox=\"0 -960 960 960\">\n",
              "    <path d=\"M120-120v-720h720v720H120Zm60-500h600v-160H180v160Zm220 220h160v-160H400v160Zm0 220h160v-160H400v160ZM180-400h160v-160H180v160Zm440 0h160v-160H620v160ZM180-180h160v-160H180v160Zm440 0h160v-160H620v160Z\"/>\n",
              "  </svg>\n",
              "    </button>\n",
              "\n",
              "  <style>\n",
              "    .colab-df-container {\n",
              "      display:flex;\n",
              "      gap: 12px;\n",
              "    }\n",
              "\n",
              "    .colab-df-convert {\n",
              "      background-color: #E8F0FE;\n",
              "      border: none;\n",
              "      border-radius: 50%;\n",
              "      cursor: pointer;\n",
              "      display: none;\n",
              "      fill: #1967D2;\n",
              "      height: 32px;\n",
              "      padding: 0 0 0 0;\n",
              "      width: 32px;\n",
              "    }\n",
              "\n",
              "    .colab-df-convert:hover {\n",
              "      background-color: #E2EBFA;\n",
              "      box-shadow: 0px 1px 2px rgba(60, 64, 67, 0.3), 0px 1px 3px 1px rgba(60, 64, 67, 0.15);\n",
              "      fill: #174EA6;\n",
              "    }\n",
              "\n",
              "    .colab-df-buttons div {\n",
              "      margin-bottom: 4px;\n",
              "    }\n",
              "\n",
              "    [theme=dark] .colab-df-convert {\n",
              "      background-color: #3B4455;\n",
              "      fill: #D2E3FC;\n",
              "    }\n",
              "\n",
              "    [theme=dark] .colab-df-convert:hover {\n",
              "      background-color: #434B5C;\n",
              "      box-shadow: 0px 1px 3px 1px rgba(0, 0, 0, 0.15);\n",
              "      filter: drop-shadow(0px 1px 2px rgba(0, 0, 0, 0.3));\n",
              "      fill: #FFFFFF;\n",
              "    }\n",
              "  </style>\n",
              "\n",
              "    <script>\n",
              "      const buttonEl =\n",
              "        document.querySelector('#df-b13288f5-f797-47c8-8044-e6c5cb986ce0 button.colab-df-convert');\n",
              "      buttonEl.style.display =\n",
              "        google.colab.kernel.accessAllowed ? 'block' : 'none';\n",
              "\n",
              "      async function convertToInteractive(key) {\n",
              "        const element = document.querySelector('#df-b13288f5-f797-47c8-8044-e6c5cb986ce0');\n",
              "        const dataTable =\n",
              "          await google.colab.kernel.invokeFunction('convertToInteractive',\n",
              "                                                    [key], {});\n",
              "        if (!dataTable) return;\n",
              "\n",
              "        const docLinkHtml = 'Like what you see? Visit the ' +\n",
              "          '<a target=\"_blank\" href=https://colab.research.google.com/notebooks/data_table.ipynb>data table notebook</a>'\n",
              "          + ' to learn more about interactive tables.';\n",
              "        element.innerHTML = '';\n",
              "        dataTable['output_type'] = 'display_data';\n",
              "        await google.colab.output.renderOutput(dataTable, element);\n",
              "        const docLink = document.createElement('div');\n",
              "        docLink.innerHTML = docLinkHtml;\n",
              "        element.appendChild(docLink);\n",
              "      }\n",
              "    </script>\n",
              "  </div>\n",
              "\n",
              "\n",
              "<div id=\"df-fe485cf4-69a5-45ed-9d62-aaee5399f2cf\">\n",
              "  <button class=\"colab-df-quickchart\" onclick=\"quickchart('df-fe485cf4-69a5-45ed-9d62-aaee5399f2cf')\"\n",
              "            title=\"Suggest charts\"\n",
              "            style=\"display:none;\">\n",
              "\n",
              "<svg xmlns=\"http://www.w3.org/2000/svg\" height=\"24px\"viewBox=\"0 0 24 24\"\n",
              "     width=\"24px\">\n",
              "    <g>\n",
              "        <path d=\"M19 3H5c-1.1 0-2 .9-2 2v14c0 1.1.9 2 2 2h14c1.1 0 2-.9 2-2V5c0-1.1-.9-2-2-2zM9 17H7v-7h2v7zm4 0h-2V7h2v10zm4 0h-2v-4h2v4z\"/>\n",
              "    </g>\n",
              "</svg>\n",
              "  </button>\n",
              "\n",
              "<style>\n",
              "  .colab-df-quickchart {\n",
              "      --bg-color: #E8F0FE;\n",
              "      --fill-color: #1967D2;\n",
              "      --hover-bg-color: #E2EBFA;\n",
              "      --hover-fill-color: #174EA6;\n",
              "      --disabled-fill-color: #AAA;\n",
              "      --disabled-bg-color: #DDD;\n",
              "  }\n",
              "\n",
              "  [theme=dark] .colab-df-quickchart {\n",
              "      --bg-color: #3B4455;\n",
              "      --fill-color: #D2E3FC;\n",
              "      --hover-bg-color: #434B5C;\n",
              "      --hover-fill-color: #FFFFFF;\n",
              "      --disabled-bg-color: #3B4455;\n",
              "      --disabled-fill-color: #666;\n",
              "  }\n",
              "\n",
              "  .colab-df-quickchart {\n",
              "    background-color: var(--bg-color);\n",
              "    border: none;\n",
              "    border-radius: 50%;\n",
              "    cursor: pointer;\n",
              "    display: none;\n",
              "    fill: var(--fill-color);\n",
              "    height: 32px;\n",
              "    padding: 0;\n",
              "    width: 32px;\n",
              "  }\n",
              "\n",
              "  .colab-df-quickchart:hover {\n",
              "    background-color: var(--hover-bg-color);\n",
              "    box-shadow: 0 1px 2px rgba(60, 64, 67, 0.3), 0 1px 3px 1px rgba(60, 64, 67, 0.15);\n",
              "    fill: var(--button-hover-fill-color);\n",
              "  }\n",
              "\n",
              "  .colab-df-quickchart-complete:disabled,\n",
              "  .colab-df-quickchart-complete:disabled:hover {\n",
              "    background-color: var(--disabled-bg-color);\n",
              "    fill: var(--disabled-fill-color);\n",
              "    box-shadow: none;\n",
              "  }\n",
              "\n",
              "  .colab-df-spinner {\n",
              "    border: 2px solid var(--fill-color);\n",
              "    border-color: transparent;\n",
              "    border-bottom-color: var(--fill-color);\n",
              "    animation:\n",
              "      spin 1s steps(1) infinite;\n",
              "  }\n",
              "\n",
              "  @keyframes spin {\n",
              "    0% {\n",
              "      border-color: transparent;\n",
              "      border-bottom-color: var(--fill-color);\n",
              "      border-left-color: var(--fill-color);\n",
              "    }\n",
              "    20% {\n",
              "      border-color: transparent;\n",
              "      border-left-color: var(--fill-color);\n",
              "      border-top-color: var(--fill-color);\n",
              "    }\n",
              "    30% {\n",
              "      border-color: transparent;\n",
              "      border-left-color: var(--fill-color);\n",
              "      border-top-color: var(--fill-color);\n",
              "      border-right-color: var(--fill-color);\n",
              "    }\n",
              "    40% {\n",
              "      border-color: transparent;\n",
              "      border-right-color: var(--fill-color);\n",
              "      border-top-color: var(--fill-color);\n",
              "    }\n",
              "    60% {\n",
              "      border-color: transparent;\n",
              "      border-right-color: var(--fill-color);\n",
              "    }\n",
              "    80% {\n",
              "      border-color: transparent;\n",
              "      border-right-color: var(--fill-color);\n",
              "      border-bottom-color: var(--fill-color);\n",
              "    }\n",
              "    90% {\n",
              "      border-color: transparent;\n",
              "      border-bottom-color: var(--fill-color);\n",
              "    }\n",
              "  }\n",
              "</style>\n",
              "\n",
              "  <script>\n",
              "    async function quickchart(key) {\n",
              "      const quickchartButtonEl =\n",
              "        document.querySelector('#' + key + ' button');\n",
              "      quickchartButtonEl.disabled = true;  // To prevent multiple clicks.\n",
              "      quickchartButtonEl.classList.add('colab-df-spinner');\n",
              "      try {\n",
              "        const charts = await google.colab.kernel.invokeFunction(\n",
              "            'suggestCharts', [key], {});\n",
              "      } catch (error) {\n",
              "        console.error('Error during call to suggestCharts:', error);\n",
              "      }\n",
              "      quickchartButtonEl.classList.remove('colab-df-spinner');\n",
              "      quickchartButtonEl.classList.add('colab-df-quickchart-complete');\n",
              "    }\n",
              "    (() => {\n",
              "      let quickchartButtonEl =\n",
              "        document.querySelector('#df-fe485cf4-69a5-45ed-9d62-aaee5399f2cf button');\n",
              "      quickchartButtonEl.style.display =\n",
              "        google.colab.kernel.accessAllowed ? 'block' : 'none';\n",
              "    })();\n",
              "  </script>\n",
              "</div>\n",
              "    </div>\n",
              "  </div>\n"
            ],
            "application/vnd.google.colaboratory.intrinsic+json": {
              "type": "dataframe",
              "summary": "{\n  \"name\": \"train\",\n  \"rows\": 8,\n  \"fields\": [\n    {\n      \"column\": \"Age\",\n      \"properties\": {\n        \"dtype\": \"number\",\n        \"std\": 33967.138274258214,\n        \"min\": 10.765046162742284,\n        \"max\": 96104.0,\n        \"num_unique_values\": 8,\n        \"samples\": [\n          33.270706734371096,\n          33.0,\n          96104.0\n        ],\n        \"semantic_type\": \"\",\n        \"description\": \"\"\n      }\n    },\n    {\n      \"column\": \"Annual_Income\",\n      \"properties\": {\n        \"dtype\": \"number\",\n        \"std\": 55212.07394314809,\n        \"min\": 7005.93,\n        \"max\": 179987.28,\n        \"num_unique_values\": 8,\n        \"samples\": [\n          50506.79021669233,\n          36993.94,\n          96104.0\n        ],\n        \"semantic_type\": \"\",\n        \"description\": \"\"\n      }\n    },\n    {\n      \"column\": \"Monthly_Inhand_Salary\",\n      \"properties\": {\n        \"dtype\": \"number\",\n        \"std\": 27565.24731834283,\n        \"min\": 303.6454166666666,\n        \"max\": 81685.0,\n        \"num_unique_values\": 8,\n        \"samples\": [\n          4194.711238674021,\n          3091.3866666666668,\n          81685.0\n        ],\n        \"semantic_type\": \"\",\n        \"description\": \"\"\n      }\n    },\n    {\n      \"column\": \"Num_Bank_Accounts\",\n      \"properties\": {\n        \"dtype\": \"number\",\n        \"std\": 33885.18739534793,\n        \"min\": 0.0,\n        \"max\": 96104.0,\n        \"num_unique_values\": 8,\n        \"samples\": [\n          17.096541246982436,\n          6.0,\n          96104.0\n        ],\n        \"semantic_type\": \"\",\n        \"description\": \"\"\n      }\n    },\n    {\n      \"column\": \"Num_Credit_Card\",\n      \"properties\": {\n        \"dtype\": \"number\",\n        \"std\": 33897.64281037319,\n        \"min\": 0.0,\n        \"max\": 96104.0,\n        \"num_unique_values\": 8,\n        \"samples\": [\n          22.527605510696745,\n          5.0,\n          96104.0\n        ],\n        \"semantic_type\": \"\",\n        \"description\": \"\"\n      }\n    },\n    {\n      \"column\": \"Interest_Rate\",\n      \"properties\": {\n        \"dtype\": \"number\",\n        \"std\": 33715.17594291776,\n        \"min\": 1.0,\n        \"max\": 96104.0,\n        \"num_unique_values\": 8,\n        \"samples\": [\n          72.35445975193541,\n          13.0,\n          96104.0\n        ],\n        \"semantic_type\": \"\",\n        \"description\": \"\"\n      }\n    },\n    {\n      \"column\": \"Num_of_Loan\",\n      \"properties\": {\n        \"dtype\": \"number\",\n        \"std\": 33902.40015057632,\n        \"min\": 0.0,\n        \"max\": 96104.0,\n        \"num_unique_values\": 8,\n        \"samples\": [\n          7.164831848830434,\n          3.0,\n          96104.0\n        ],\n        \"semantic_type\": \"\",\n        \"description\": \"\"\n      }\n    },\n    {\n      \"column\": \"Delay_from_due_date\",\n      \"properties\": {\n        \"dtype\": \"number\",\n        \"std\": 33970.126526462234,\n        \"min\": -5.0,\n        \"max\": 96104.0,\n        \"num_unique_values\": 8,\n        \"samples\": [\n          21.0726504619995,\n          18.0,\n          96104.0\n        ],\n        \"semantic_type\": \"\",\n        \"description\": \"\"\n      }\n    },\n    {\n      \"column\": \"Num_of_Delayed_Payment\",\n      \"properties\": {\n        \"dtype\": \"number\",\n        \"std\": 31409.34169223386,\n        \"min\": -3.0,\n        \"max\": 89405.0,\n        \"num_unique_values\": 8,\n        \"samples\": [\n          31.134489122532298,\n          14.0,\n          89405.0\n        ],\n        \"semantic_type\": \"\",\n        \"description\": \"\"\n      }\n    },\n    {\n      \"column\": \"Changed_Credit_Limit\",\n      \"properties\": {\n        \"dtype\": \"number\",\n        \"std\": 33262.66837372365,\n        \"min\": -6.49,\n        \"max\": 94092.0,\n        \"num_unique_values\": 8,\n        \"samples\": [\n          10.394152000170045,\n          9.41,\n          94092.0\n        ],\n        \"semantic_type\": \"\",\n        \"description\": \"\"\n      }\n    },\n    {\n      \"column\": \"Num_Credit_Inquiries\",\n      \"properties\": {\n        \"dtype\": \"number\",\n        \"std\": 33179.291782365966,\n        \"min\": 0.0,\n        \"max\": 94216.0,\n        \"num_unique_values\": 8,\n        \"samples\": [\n          27.74309034558886,\n          6.0,\n          94216.0\n        ],\n        \"semantic_type\": \"\",\n        \"description\": \"\"\n      }\n    },\n    {\n      \"column\": \"Outstanding_Debt\",\n      \"properties\": {\n        \"dtype\": \"number\",\n        \"std\": 33442.60136205966,\n        \"min\": 0.23,\n        \"max\": 96104.0,\n        \"num_unique_values\": 8,\n        \"samples\": [\n          1427.1061012028636,\n          1166.64,\n          96104.0\n        ],\n        \"semantic_type\": \"\",\n        \"description\": \"\"\n      }\n    },\n    {\n      \"column\": \"Credit_Utilization_Ratio\",\n      \"properties\": {\n        \"dtype\": \"number\",\n        \"std\": 33967.58023596819,\n        \"min\": 5.114835313106235,\n        \"max\": 96104.0,\n        \"num_unique_values\": 8,\n        \"samples\": [\n          32.28811840345993,\n          32.30733091198928,\n          96104.0\n        ],\n        \"semantic_type\": \"\",\n        \"description\": \"\"\n      }\n    },\n    {\n      \"column\": \"Total_EMI_per_month\",\n      \"properties\": {\n        \"dtype\": \"number\",\n        \"std\": 40791.23603193966,\n        \"min\": 0.0,\n        \"max\": 96104.0,\n        \"num_unique_values\": 8,\n        \"samples\": [\n          1409.2384080288107,\n          69.24668400263387,\n          96104.0\n        ],\n        \"semantic_type\": \"\",\n        \"description\": \"\"\n      }\n    },\n    {\n      \"column\": \"Amount_invested_monthly\",\n      \"properties\": {\n        \"dtype\": \"number\",\n        \"std\": 31969.639385980936,\n        \"min\": 0.0,\n        \"max\": 91796.0,\n        \"num_unique_values\": 8,\n        \"samples\": [\n          636.0616588855463,\n          135.8211760005167,\n          91796.0\n        ],\n        \"semantic_type\": \"\",\n        \"description\": \"\"\n      }\n    },\n    {\n      \"column\": \"Monthly_Balance\",\n      \"properties\": {\n        \"dtype\": \"number\",\n        \"std\": 1.180203922482024e+26,\n        \"min\": -3.333333333333333e+26,\n        \"max\": 3.2729585925197533e+24,\n        \"num_unique_values\": 8,\n        \"samples\": [\n          -3.213952840598652e+22,\n          336.40201010897295,\n          93343.0\n        ],\n        \"semantic_type\": \"\",\n        \"description\": \"\"\n      }\n    }\n  ]\n}"
            }
          },
          "metadata": {},
          "execution_count": 37
        }
      ]
    },
    {
      "cell_type": "code",
      "source": [
        "train.Num_Bank_Accounts[train.Num_Bank_Accounts > 50].value_counts()"
      ],
      "metadata": {
        "colab": {
          "base_uri": "https://localhost:8080/"
        },
        "id": "j9l7GWZTYOg-",
        "outputId": "7d4ab96c-1d38-46cf-bd34-ceab7a2cf462"
      },
      "execution_count": 38,
      "outputs": [
        {
          "output_type": "execute_result",
          "data": {
            "text/plain": [
              "Num_Bank_Accounts\n",
              "803     7\n",
              "791     5\n",
              "1668    5\n",
              "105     5\n",
              "1257    4\n",
              "       ..\n",
              "887     1\n",
              "211     1\n",
              "385     1\n",
              "1221    1\n",
              "697     1\n",
              "Name: count, Length: 887, dtype: int64"
            ]
          },
          "metadata": {},
          "execution_count": 38
        }
      ]
    },
    {
      "cell_type": "code",
      "source": [
        "train.drop(train[train.Num_Bank_Accounts > 50].index,inplace=True)"
      ],
      "metadata": {
        "id": "PWYRnSjEYzXb"
      },
      "execution_count": 39,
      "outputs": []
    },
    {
      "cell_type": "code",
      "source": [
        "train.reset_index(drop=True,inplace=True)"
      ],
      "metadata": {
        "id": "Z9zs8ODqZlVj"
      },
      "execution_count": 40,
      "outputs": []
    },
    {
      "cell_type": "code",
      "source": [
        "train.isnull().sum()"
      ],
      "metadata": {
        "colab": {
          "base_uri": "https://localhost:8080/"
        },
        "id": "xdCsaj_UZnl-",
        "outputId": "a0737259-f7cb-4145-a31f-8a78d0f33ae4"
      },
      "execution_count": 41,
      "outputs": [
        {
          "output_type": "execute_result",
          "data": {
            "text/plain": [
              "Customer_ID                     0\n",
              "Age                             0\n",
              "Occupation                      0\n",
              "Annual_Income                   0\n",
              "Monthly_Inhand_Salary       14217\n",
              "Num_Bank_Accounts               0\n",
              "Num_Credit_Card                 0\n",
              "Interest_Rate                   0\n",
              "Num_of_Loan                     0\n",
              "Type_of_Loan                10839\n",
              "Delay_from_due_date             0\n",
              "Num_of_Delayed_Payment       6612\n",
              "Changed_Credit_Limit         1988\n",
              "Num_Credit_Inquiries         1855\n",
              "Credit_Mix                      0\n",
              "Outstanding_Debt                0\n",
              "Credit_Utilization_Ratio        0\n",
              "Credit_History_Age           8580\n",
              "Payment_of_Min_Amount           0\n",
              "Total_EMI_per_month             0\n",
              "Amount_invested_monthly      4250\n",
              "Payment_Behaviour               0\n",
              "Monthly_Balance              2723\n",
              "Credit_Score                    0\n",
              "dtype: int64"
            ]
          },
          "metadata": {},
          "execution_count": 41
        }
      ]
    },
    {
      "cell_type": "markdown",
      "source": [
        "# MENGISI KOLOM NUMERIK  NULLS"
      ],
      "metadata": {
        "id": "FqkTdjWsaHL0"
      }
    },
    {
      "cell_type": "code",
      "source": [
        "null_num_cols = ['Monthly_Inhand_Salary','Num_of_Delayed_Payment','Changed_Credit_Limit','Num_Credit_Inquiries','Amount_invested_monthly','Monthly_Balance']\n",
        "imputer = SimpleImputer(strategy='mean')\n",
        "imputed_numerical = pd.DataFrame(imputer.fit_transform(train[null_num_cols]),columns=null_num_cols)\n",
        "imputed_numerical.isnull().sum()"
      ],
      "metadata": {
        "colab": {
          "base_uri": "https://localhost:8080/"
        },
        "id": "CjV2HKW5aeNa",
        "outputId": "d5f19bdb-b481-4f82-eea1-af9563d25e09"
      },
      "execution_count": 42,
      "outputs": [
        {
          "output_type": "execute_result",
          "data": {
            "text/plain": [
              "Monthly_Inhand_Salary      0\n",
              "Num_of_Delayed_Payment     0\n",
              "Changed_Credit_Limit       0\n",
              "Num_Credit_Inquiries       0\n",
              "Amount_invested_monthly    0\n",
              "Monthly_Balance            0\n",
              "dtype: int64"
            ]
          },
          "metadata": {},
          "execution_count": 42
        }
      ]
    },
    {
      "cell_type": "code",
      "source": [
        "train[null_num_cols] = imputed_numerical"
      ],
      "metadata": {
        "id": "2eIAo2F5bNiw"
      },
      "execution_count": 43,
      "outputs": []
    },
    {
      "cell_type": "code",
      "source": [
        "train.isnull().sum()"
      ],
      "metadata": {
        "colab": {
          "base_uri": "https://localhost:8080/"
        },
        "id": "wM26K-2wbQ17",
        "outputId": "4f2f4d3a-98a4-40ef-dd6d-c3c6017745e6"
      },
      "execution_count": 44,
      "outputs": [
        {
          "output_type": "execute_result",
          "data": {
            "text/plain": [
              "Customer_ID                     0\n",
              "Age                             0\n",
              "Occupation                      0\n",
              "Annual_Income                   0\n",
              "Monthly_Inhand_Salary           0\n",
              "Num_Bank_Accounts               0\n",
              "Num_Credit_Card                 0\n",
              "Interest_Rate                   0\n",
              "Num_of_Loan                     0\n",
              "Type_of_Loan                10839\n",
              "Delay_from_due_date             0\n",
              "Num_of_Delayed_Payment          0\n",
              "Changed_Credit_Limit            0\n",
              "Num_Credit_Inquiries            0\n",
              "Credit_Mix                      0\n",
              "Outstanding_Debt                0\n",
              "Credit_Utilization_Ratio        0\n",
              "Credit_History_Age           8580\n",
              "Payment_of_Min_Amount           0\n",
              "Total_EMI_per_month             0\n",
              "Amount_invested_monthly         0\n",
              "Payment_Behaviour               0\n",
              "Monthly_Balance                 0\n",
              "Credit_Score                    0\n",
              "dtype: int64"
            ]
          },
          "metadata": {},
          "execution_count": 44
        }
      ]
    },
    {
      "cell_type": "markdown",
      "source": [
        "# NILAI YANG SALAH\n"
      ],
      "metadata": {
        "id": "GVaczWHabfAg"
      }
    },
    {
      "cell_type": "code",
      "source": [
        "train.Occupation.value_counts()"
      ],
      "metadata": {
        "colab": {
          "base_uri": "https://localhost:8080/"
        },
        "id": "LOR3AGVabi1n",
        "outputId": "0991d452-0719-4f39-d19f-85904a74dfed"
      },
      "execution_count": 45,
      "outputs": [
        {
          "output_type": "execute_result",
          "data": {
            "text/plain": [
              "Occupation\n",
              "Lawyer           6726\n",
              "Engineer         6459\n",
              "Architect        6455\n",
              "Mechanic         6448\n",
              "Scientist        6414\n",
              "Accountant       6376\n",
              "Developer        6366\n",
              "Teacher          6347\n",
              "Media_Manager    6333\n",
              "Entrepreneur     6322\n",
              "Doctor           6218\n",
              "Journalist       6211\n",
              "Manager          6115\n",
              "Musician         6044\n",
              "Writer           6029\n",
              "_______             8\n",
              "Name: count, dtype: int64"
            ]
          },
          "metadata": {},
          "execution_count": 45
        }
      ]
    },
    {
      "cell_type": "code",
      "source": [
        "train.loc[train.Occupation == '_______','Occupation'] = np.nan"
      ],
      "metadata": {
        "id": "NCIiODwEbwwD"
      },
      "execution_count": 46,
      "outputs": []
    },
    {
      "cell_type": "code",
      "source": [
        "train.Type_of_Loan.value_counts()"
      ],
      "metadata": {
        "colab": {
          "base_uri": "https://localhost:8080/"
        },
        "id": "8l1y2quuby2p",
        "outputId": "6671da03-d404-4457-fda7-1a16465f8174"
      },
      "execution_count": 47,
      "outputs": [
        {
          "output_type": "execute_result",
          "data": {
            "text/plain": [
              "Type_of_Loan\n",
              "Not Specified                                                                                                                                          1318\n",
              "Credit-Builder Loan                                                                                                                                    1202\n",
              "Personal Loan                                                                                                                                          1197\n",
              "Debt Consolidation Loan                                                                                                                                1188\n",
              "Student Loan                                                                                                                                           1184\n",
              "                                                                                                                                                       ... \n",
              "Credit-Builder Loan, Mortgage Loan, Mortgage Loan, Payday Loan, Personal Loan, Debt Consolidation Loan, Personal Loan, Mortgage Loan, and Auto Loan       5\n",
              "Credit-Builder Loan, Student Loan, Personal Loan, Not Specified, Payday Loan, and Auto Loan                                                               5\n",
              "Student Loan, Debt Consolidation Loan, Personal Loan, Auto Loan, and Payday Loan                                                                          5\n",
              "Student Loan, Auto Loan, Credit-Builder Loan, Debt Consolidation Loan, Not Specified, Not Specified, Payday Loan, Payday Loan, and Personal Loan          5\n",
              "Home Equity Loan, Debt Consolidation Loan, and Student Loan                                                                                               4\n",
              "Name: count, Length: 6260, dtype: int64"
            ]
          },
          "metadata": {},
          "execution_count": 47
        }
      ]
    },
    {
      "cell_type": "code",
      "source": [
        "train.Type_of_Loan[train.Type_of_Loan == '_'].any()#no wrong values"
      ],
      "metadata": {
        "colab": {
          "base_uri": "https://localhost:8080/"
        },
        "id": "KUK6V2P-b2tX",
        "outputId": "9e3fed7e-1927-4c16-bb91-10a449bd4e87"
      },
      "execution_count": 48,
      "outputs": [
        {
          "output_type": "execute_result",
          "data": {
            "text/plain": [
              "False"
            ]
          },
          "metadata": {},
          "execution_count": 48
        }
      ]
    },
    {
      "cell_type": "code",
      "source": [
        "train.Credit_Mix.value_counts()"
      ],
      "metadata": {
        "colab": {
          "base_uri": "https://localhost:8080/"
        },
        "id": "iDFOPHhpcKHQ",
        "outputId": "69f35c23-99e4-4b2a-8cde-2cfe214e2d0b"
      },
      "execution_count": 49,
      "outputs": [
        {
          "output_type": "execute_result",
          "data": {
            "text/plain": [
              "Credit_Mix\n",
              "Standard    34586\n",
              "Good        23056\n",
              "_           19188\n",
              "Bad         18041\n",
              "Name: count, dtype: int64"
            ]
          },
          "metadata": {},
          "execution_count": 49
        }
      ]
    },
    {
      "cell_type": "code",
      "source": [
        "train.loc[train.Credit_Mix == '_', 'Credit_Mix'] = np.nan"
      ],
      "metadata": {
        "id": "M7z1w8qZcViG"
      },
      "execution_count": 50,
      "outputs": []
    },
    {
      "cell_type": "code",
      "source": [
        "sns.countplot(train.Credit_Mix)"
      ],
      "metadata": {
        "colab": {
          "base_uri": "https://localhost:8080/",
          "height": 466
        },
        "id": "57mlfD-scYnd",
        "outputId": "e5ae7cfd-8c9f-4203-fc96-76e98a48ef93"
      },
      "execution_count": 51,
      "outputs": [
        {
          "output_type": "execute_result",
          "data": {
            "text/plain": [
              "<Axes: xlabel='count', ylabel='Credit_Mix'>"
            ]
          },
          "metadata": {},
          "execution_count": 51
        },
        {
          "output_type": "display_data",
          "data": {
            "text/plain": [
              "<Figure size 640x480 with 1 Axes>"
            ],
            "image/png": "[encoded data removed]"
          },
          "metadata": {}
        }
      ]
    },
    {
      "cell_type": "code",
      "source": [
        "train.Credit_History_Age.value_counts()"
      ],
      "metadata": {
        "colab": {
          "base_uri": "https://localhost:8080/"
        },
        "id": "rkqjYSHdcadb",
        "outputId": "6816548d-e982-49ee-83f0-9ad00f4ec2d0"
      },
      "execution_count": 52,
      "outputs": [
        {
          "output_type": "execute_result",
          "data": {
            "text/plain": [
              "Credit_History_Age\n",
              "19 Years and 4 Months     426\n",
              "19 Years and 5 Months     425\n",
              "15 Years and 11 Months    424\n",
              "17 Years and 9 Months     424\n",
              "19 Years and 3 Months     421\n",
              "                         ... \n",
              "0 Years and 3 Months       20\n",
              "0 Years and 2 Months       13\n",
              "33 Years and 7 Months      13\n",
              "33 Years and 8 Months      12\n",
              "0 Years and 1 Months        2\n",
              "Name: count, Length: 404, dtype: int64"
            ]
          },
          "metadata": {},
          "execution_count": 52
        }
      ]
    },
    {
      "cell_type": "code",
      "source": [
        "train.Credit_History_Age[train.Credit_History_Age == '_'].any()#no wrong values"
      ],
      "metadata": {
        "colab": {
          "base_uri": "https://localhost:8080/"
        },
        "id": "BzOLOO1mci93",
        "outputId": "bd175a09-f073-42ce-b592-65e69de81ac8"
      },
      "execution_count": 53,
      "outputs": [
        {
          "output_type": "execute_result",
          "data": {
            "text/plain": [
              "False"
            ]
          },
          "metadata": {},
          "execution_count": 53
        }
      ]
    },
    {
      "cell_type": "code",
      "source": [
        "train.Payment_of_Min_Amount.value_counts()"
      ],
      "metadata": {
        "colab": {
          "base_uri": "https://localhost:8080/"
        },
        "id": "jcGk3Vp9clXU",
        "outputId": "0ef875f9-8f48-42f4-cbca-d6833ca66fe7"
      },
      "execution_count": 54,
      "outputs": [
        {
          "output_type": "execute_result",
          "data": {
            "text/plain": [
              "Payment_of_Min_Amount\n",
              "Yes    49670\n",
              "No     33815\n",
              "NM     11386\n",
              "Name: count, dtype: int64"
            ]
          },
          "metadata": {},
          "execution_count": 54
        }
      ]
    },
    {
      "cell_type": "code",
      "source": [
        "train.loc[train.Payment_of_Min_Amount == 'NM','Payment_of_Min_Amount'] = np.nan"
      ],
      "metadata": {
        "id": "b682zbp5cuJh"
      },
      "execution_count": 55,
      "outputs": []
    },
    {
      "cell_type": "code",
      "source": [
        "sns.countplot(train.Payment_of_Min_Amount)"
      ],
      "metadata": {
        "colab": {
          "base_uri": "https://localhost:8080/",
          "height": 466
        },
        "id": "Ve_03ZDWcwcs",
        "outputId": "3354271d-b64a-421a-9b42-954d969956ea"
      },
      "execution_count": 56,
      "outputs": [
        {
          "output_type": "execute_result",
          "data": {
            "text/plain": [
              "<Axes: xlabel='count', ylabel='Payment_of_Min_Amount'>"
            ]
          },
          "metadata": {},
          "execution_count": 56
        },
        {
          "output_type": "display_data",
          "data": {
            "text/plain": [
              "<Figure size 640x480 with 1 Axes>"
            ],
            "image/png": "[encoded data removed]"
          },
          "metadata": {}
        }
      ]
    },
    {
      "cell_type": "code",
      "source": [
        "train.Payment_Behaviour.value_counts()"
      ],
      "metadata": {
        "colab": {
          "base_uri": "https://localhost:8080/"
        },
        "id": "hiOOVKhOc3Om",
        "outputId": "2bae12a4-2ba3-478a-dfe3-0212df44d610"
      },
      "execution_count": 57,
      "outputs": [
        {
          "output_type": "execute_result",
          "data": {
            "text/plain": [
              "Payment_Behaviour\n",
              "Low_spent_Small_value_payments      24221\n",
              "High_spent_Medium_value_payments    16632\n",
              "Low_spent_Medium_value_payments     13161\n",
              "High_spent_Large_value_payments     12974\n",
              "High_spent_Small_value_payments     10760\n",
              "Low_spent_Large_value_payments       9924\n",
              "!@9#%8                               7199\n",
              "Name: count, dtype: int64"
            ]
          },
          "metadata": {},
          "execution_count": 57
        }
      ]
    },
    {
      "cell_type": "code",
      "source": [
        "train.loc[train.Payment_Behaviour == '!@9#%8','Payment_Behaviour'] = np.nan"
      ],
      "metadata": {
        "id": "FXi_TgxBc8dv"
      },
      "execution_count": 58,
      "outputs": []
    },
    {
      "cell_type": "code",
      "source": [
        "sns.countplot(train.Payment_Behaviour)"
      ],
      "metadata": {
        "colab": {
          "base_uri": "https://localhost:8080/",
          "height": 466
        },
        "id": "a2tcOjEac_Jb",
        "outputId": "1aeb6226-400b-4b69-a24e-f0e77f38bf88"
      },
      "execution_count": 59,
      "outputs": [
        {
          "output_type": "execute_result",
          "data": {
            "text/plain": [
              "<Axes: xlabel='count', ylabel='Payment_Behaviour'>"
            ]
          },
          "metadata": {},
          "execution_count": 59
        },
        {
          "output_type": "display_data",
          "data": {
            "text/plain": [
              "<Figure size 640x480 with 1 Axes>"
            ],
            "image/png": "[encoded data removed]"
          },
          "metadata": {}
        }
      ]
    },
    {
      "cell_type": "code",
      "source": [
        "train.Credit_Score.value_counts()"
      ],
      "metadata": {
        "colab": {
          "base_uri": "https://localhost:8080/"
        },
        "id": "5da5dyg-dDup",
        "outputId": "5d27de56-ceed-474b-b392-04face83713d"
      },
      "execution_count": 60,
      "outputs": [
        {
          "output_type": "execute_result",
          "data": {
            "text/plain": [
              "Credit_Score\n",
              "Standard    50491\n",
              "Poor        27523\n",
              "Good        16857\n",
              "Name: count, dtype: int64"
            ]
          },
          "metadata": {},
          "execution_count": 60
        }
      ]
    },
    {
      "cell_type": "code",
      "source": [
        "train.isnull().sum()"
      ],
      "metadata": {
        "colab": {
          "base_uri": "https://localhost:8080/"
        },
        "id": "7-r7s7K_dGMA",
        "outputId": "f7c26d23-53f2-43d0-9bb2-f8875d276fb2"
      },
      "execution_count": 61,
      "outputs": [
        {
          "output_type": "execute_result",
          "data": {
            "text/plain": [
              "Customer_ID                     0\n",
              "Age                             0\n",
              "Occupation                      8\n",
              "Annual_Income                   0\n",
              "Monthly_Inhand_Salary           0\n",
              "Num_Bank_Accounts               0\n",
              "Num_Credit_Card                 0\n",
              "Interest_Rate                   0\n",
              "Num_of_Loan                     0\n",
              "Type_of_Loan                10839\n",
              "Delay_from_due_date             0\n",
              "Num_of_Delayed_Payment          0\n",
              "Changed_Credit_Limit            0\n",
              "Num_Credit_Inquiries            0\n",
              "Credit_Mix                  19188\n",
              "Outstanding_Debt                0\n",
              "Credit_Utilization_Ratio        0\n",
              "Credit_History_Age           8580\n",
              "Payment_of_Min_Amount       11386\n",
              "Total_EMI_per_month             0\n",
              "Amount_invested_monthly         0\n",
              "Payment_Behaviour            7199\n",
              "Monthly_Balance                 0\n",
              "Credit_Score                    0\n",
              "dtype: int64"
            ]
          },
          "metadata": {},
          "execution_count": 61
        }
      ]
    },
    {
      "cell_type": "markdown",
      "source": [
        "# MENGHAPUS ID"
      ],
      "metadata": {
        "id": "iBy8cCYLdK4N"
      }
    },
    {
      "cell_type": "code",
      "source": [
        "train.drop(['Customer_ID'],axis=1,inplace=True)"
      ],
      "metadata": {
        "id": "SW8jFJskdO1N"
      },
      "execution_count": 62,
      "outputs": []
    },
    {
      "cell_type": "code",
      "source": [
        "categorical = categorical.drop('Customer_ID')\n",
        "categorical = categorical.drop('Credit_Score')"
      ],
      "metadata": {
        "id": "3Xqrw2OHdT51"
      },
      "execution_count": 63,
      "outputs": []
    },
    {
      "cell_type": "code",
      "source": [
        "categorical"
      ],
      "metadata": {
        "colab": {
          "base_uri": "https://localhost:8080/"
        },
        "id": "hc1mVLCBdVnW",
        "outputId": "d9d7d45d-32d0-4e8e-a5c6-4fe511d437be"
      },
      "execution_count": 64,
      "outputs": [
        {
          "output_type": "execute_result",
          "data": {
            "text/plain": [
              "Index(['Occupation', 'Type_of_Loan', 'Credit_Mix', 'Credit_History_Age',\n",
              "       'Payment_of_Min_Amount', 'Payment_Behaviour'],\n",
              "      dtype='object')"
            ]
          },
          "metadata": {},
          "execution_count": 64
        }
      ]
    },
    {
      "cell_type": "code",
      "source": [
        "imputer = SimpleImputer(strategy='most_frequent')\n",
        "imputed_categorical = pd.DataFrame(imputer.fit_transform(train[categorical]),columns=categorical)"
      ],
      "metadata": {
        "id": "DbOYU5QkdXwT"
      },
      "execution_count": 65,
      "outputs": []
    },
    {
      "cell_type": "code",
      "source": [
        "train[categorical] = imputed_categorical"
      ],
      "metadata": {
        "id": "-dXJ8tFNdZTe"
      },
      "execution_count": 66,
      "outputs": []
    },
    {
      "cell_type": "code",
      "source": [
        "train.isnull().sum().any()"
      ],
      "metadata": {
        "colab": {
          "base_uri": "https://localhost:8080/"
        },
        "id": "OiK3OgIqdbQw",
        "outputId": "01a60e83-5d61-413c-9c25-5cfafafede36"
      },
      "execution_count": 67,
      "outputs": [
        {
          "output_type": "execute_result",
          "data": {
            "text/plain": [
              "False"
            ]
          },
          "metadata": {},
          "execution_count": 67
        }
      ]
    },
    {
      "cell_type": "code",
      "source": [
        "train.shape"
      ],
      "metadata": {
        "colab": {
          "base_uri": "https://localhost:8080/"
        },
        "id": "AoYdmbYMdfTF",
        "outputId": "a3aef93a-e4d5-4695-93bf-6f196c9d2323"
      },
      "execution_count": 68,
      "outputs": [
        {
          "output_type": "execute_result",
          "data": {
            "text/plain": [
              "(94871, 23)"
            ]
          },
          "metadata": {},
          "execution_count": 68
        }
      ]
    },
    {
      "cell_type": "markdown",
      "source": [
        "# MENGECEK KORELASI"
      ],
      "metadata": {
        "id": "mGAfgwjadlAo"
      }
    },
    {
      "cell_type": "code",
      "source": [
        "plt.figure(figsize=(20,20))\n",
        "sns.heatmap(train[numerical].corr(),annot=True)"
      ],
      "metadata": {
        "colab": {
          "base_uri": "https://localhost:8080/",
          "height": 1000
        },
        "id": "rjdX0R64doHe",
        "outputId": "a426c922-b522-449e-b476-2e8b2edca3f0"
      },
      "execution_count": 69,
      "outputs": [
        {
          "output_type": "execute_result",
          "data": {
            "text/plain": [
              "<Axes: >"
            ]
          },
          "metadata": {},
          "execution_count": 69
        },
        {
          "output_type": "display_data",
          "data": {
            "text/plain": [
              "<Figure size 2000x2000 with 2 Axes>"
            ],
            "image/png": "[encoded data removed]"
          },
          "metadata": {}
        }
      ]
    },
    {
      "cell_type": "code",
      "source": [
        "sns.heatmap(train[['Annual_Income','Monthly_Inhand_Salary']].corr(),annot=True)"
      ],
      "metadata": {
        "colab": {
          "base_uri": "https://localhost:8080/",
          "height": 452
        },
        "id": "RJpPyPK2dtRg",
        "outputId": "25408514-8c32-4086-f96a-f60ec7bdd1eb"
      },
      "execution_count": 70,
      "outputs": [
        {
          "output_type": "execute_result",
          "data": {
            "text/plain": [
              "<Axes: >"
            ]
          },
          "metadata": {},
          "execution_count": 70
        },
        {
          "output_type": "display_data",
          "data": {
            "text/plain": [
              "<Figure size 640x480 with 2 Axes>"
            ],
            "image/png": "[encoded data removed]"
          },
          "metadata": {}
        }
      ]
    },
    {
      "cell_type": "code",
      "source": [
        "train.drop(['Monthly_Inhand_Salary'],axis=1,inplace=True)"
      ],
      "metadata": {
        "id": "QHv8YLf-dtsG"
      },
      "execution_count": 71,
      "outputs": []
    },
    {
      "cell_type": "code",
      "source": [
        "numerical = numerical.drop('Monthly_Inhand_Salary')\n",
        "numerical"
      ],
      "metadata": {
        "colab": {
          "base_uri": "https://localhost:8080/"
        },
        "id": "m1u8yxd9dv5O",
        "outputId": "98a341d5-b534-4426-883c-634c7c97a8fc"
      },
      "execution_count": 72,
      "outputs": [
        {
          "output_type": "execute_result",
          "data": {
            "text/plain": [
              "Index(['Age', 'Annual_Income', 'Num_Bank_Accounts', 'Num_Credit_Card',\n",
              "       'Interest_Rate', 'Num_of_Loan', 'Delay_from_due_date',\n",
              "       'Num_of_Delayed_Payment', 'Changed_Credit_Limit',\n",
              "       'Num_Credit_Inquiries', 'Outstanding_Debt', 'Credit_Utilization_Ratio',\n",
              "       'Total_EMI_per_month', 'Amount_invested_monthly', 'Monthly_Balance'],\n",
              "      dtype='object')"
            ]
          },
          "metadata": {},
          "execution_count": 72
        }
      ]
    },
    {
      "cell_type": "markdown",
      "source": [
        "# PENSKALAAN DAN PENGKODEAN"
      ],
      "metadata": {
        "id": "txOr6vm_dyR6"
      }
    },
    {
      "cell_type": "code",
      "source": [
        "train[numerical] = StandardScaler().fit_transform(train[numerical])"
      ],
      "metadata": {
        "id": "0c0hYeaXdwwC"
      },
      "execution_count": 73,
      "outputs": []
    },
    {
      "cell_type": "code",
      "source": [
        "train.describe()"
      ],
      "metadata": {
        "colab": {
          "base_uri": "https://localhost:8080/",
          "height": 389
        },
        "id": "vI9RJIdceGhB",
        "outputId": "81a6fe00-1832-4815-9459-7dd293c2b1bf"
      },
      "execution_count": 74,
      "outputs": [
        {
          "output_type": "execute_result",
          "data": {
            "text/plain": [
              "                Age  Annual_Income  Num_Bank_Accounts  Num_Credit_Card  \\\n",
              "count  9.487100e+04   9.487100e+04       9.487100e+04     9.487100e+04   \n",
              "mean   5.212739e-17  -1.180356e-16      -5.422447e-17     2.067121e-17   \n",
              "std    1.000005e+00   1.000005e+00       1.000005e+00     1.000005e+00   \n",
              "min   -1.789442e+00  -1.135775e+00      -2.025234e+00    -1.743784e-01   \n",
              "25%   -8.607569e-01  -8.139212e-01      -8.958663e-01    -1.434799e-01   \n",
              "50%   -2.494023e-02  -3.527960e-01      -1.429542e-01    -1.357553e-01   \n",
              "75%    8.108765e-01   5.523884e-01       6.099579e-01    -1.203060e-01   \n",
              "max    2.111036e+00   3.378818e+00       1.679757e+01     1.140485e+01   \n",
              "\n",
              "       Interest_Rate   Num_of_Loan  Delay_from_due_date  \\\n",
              "count   9.487100e+04  9.487100e+04         9.487100e+04   \n",
              "mean   -1.445486e-17  8.388315e-18         9.826312e-17   \n",
              "std     1.000005e+00  1.000005e+00         1.000005e+00   \n",
              "min    -1.530573e-01 -1.187571e-01        -1.753846e+00   \n",
              "25%    -1.380863e-01 -8.561877e-02        -7.445380e-01   \n",
              "50%    -1.273927e-01 -6.904963e-02        -2.062405e-01   \n",
              "75%    -1.124218e-01 -3.591136e-02         4.666315e-01   \n",
              "max     1.224291e+01  2.466867e+01         3.090832e+00   \n",
              "\n",
              "       Num_of_Delayed_Payment  Changed_Credit_Limit  Num_Credit_Inquiries  \\\n",
              "count            9.487100e+04          9.487100e+04          9.487100e+04   \n",
              "mean             1.378080e-17         -1.653696e-16         -9.137272e-18   \n",
              "std              1.000005e+00          1.000005e+00          1.000005e+00   \n",
              "min             -1.555898e-01         -2.511158e+00         -1.452211e-01   \n",
              "25%             -1.009934e-01         -7.396955e-01         -1.295222e-01   \n",
              "50%             -7.369521e-02         -1.239227e-01         -1.138233e-01   \n",
              "75%             -5.549642e-02          6.361254e-01         -9.812434e-02   \n",
              "max              1.986308e+01          3.881575e+00          1.344482e+01   \n",
              "\n",
              "       Outstanding_Debt  Credit_Utilization_Ratio  Total_EMI_per_month  \\\n",
              "count      9.487100e+04              9.487100e+04         9.487100e+04   \n",
              "mean      -2.019187e-16              1.901526e-15         3.063233e-17   \n",
              "std        1.000005e+00              1.000005e+00         1.000005e+00   \n",
              "min       -1.234279e+00             -2.402581e+00        -1.692910e-01   \n",
              "25%       -7.451281e-01             -8.265197e-01        -1.656482e-01   \n",
              "50%       -2.249243e-01              3.454878e-03        -1.609688e-01   \n",
              "75%        4.522337e-01              8.240983e-01        -1.499068e-01   \n",
              "max        3.091238e+00              3.462990e+00         9.722368e+00   \n",
              "\n",
              "       Amount_invested_monthly  Monthly_Balance  \n",
              "count             9.487100e+04     9.487100e+04  \n",
              "mean             -2.995827e-19    -9.923677e-18  \n",
              "std               1.000005e+00     1.000005e+00  \n",
              "min              -3.189411e-01    -1.026654e+02  \n",
              "25%              -2.802844e-01     1.002821e-02  \n",
              "50%              -2.471615e-01     1.002821e-02  \n",
              "75%              -1.659773e-01     1.002821e-02  \n",
              "max               4.700224e+00     1.002821e-02  "
            ],
            "text/html": [
              "\n",
              "  <div id=\"df-f643df2c-9f93-4009-b432-94f846e0620f\" class=\"colab-df-container\">\n",
              "    <div>\n",
              "<style scoped>\n",
              "    .dataframe tbody tr th:only-of-type {\n",
              "        vertical-align: middle;\n",
              "    }\n",
              "\n",
              "    .dataframe tbody tr th {\n",
              "        vertical-align: top;\n",
              "    }\n",
              "\n",
              "    .dataframe thead th {\n",
              "        text-align: right;\n",
              "    }\n",
              "</style>\n",
              "<table border=\"1\" class=\"dataframe\">\n",
              "  <thead>\n",
              "    <tr style=\"text-align: right;\">\n",
              "      <th></th>\n",
              "      <th>Age</th>\n",
              "      <th>Annual_Income</th>\n",
              "      <th>Num_Bank_Accounts</th>\n",
              "      <th>Num_Credit_Card</th>\n",
              "      <th>Interest_Rate</th>\n",
              "      <th>Num_of_Loan</th>\n",
              "      <th>Delay_from_due_date</th>\n",
              "      <th>Num_of_Delayed_Payment</th>\n",
              "      <th>Changed_Credit_Limit</th>\n",
              "      <th>Num_Credit_Inquiries</th>\n",
              "      <th>Outstanding_Debt</th>\n",
              "      <th>Credit_Utilization_Ratio</th>\n",
              "      <th>Total_EMI_per_month</th>\n",
              "      <th>Amount_invested_monthly</th>\n",
              "      <th>Monthly_Balance</th>\n",
              "    </tr>\n",
              "  </thead>\n",
              "  <tbody>\n",
              "    <tr>\n",
              "      <th>count</th>\n",
              "      <td>9.487100e+04</td>\n",
              "      <td>9.487100e+04</td>\n",
              "      <td>9.487100e+04</td>\n",
              "      <td>9.487100e+04</td>\n",
              "      <td>9.487100e+04</td>\n",
              "      <td>9.487100e+04</td>\n",
              "      <td>9.487100e+04</td>\n",
              "      <td>9.487100e+04</td>\n",
              "      <td>9.487100e+04</td>\n",
              "      <td>9.487100e+04</td>\n",
              "      <td>9.487100e+04</td>\n",
              "      <td>9.487100e+04</td>\n",
              "      <td>9.487100e+04</td>\n",
              "      <td>9.487100e+04</td>\n",
              "      <td>9.487100e+04</td>\n",
              "    </tr>\n",
              "    <tr>\n",
              "      <th>mean</th>\n",
              "      <td>5.212739e-17</td>\n",
              "      <td>-1.180356e-16</td>\n",
              "      <td>-5.422447e-17</td>\n",
              "      <td>2.067121e-17</td>\n",
              "      <td>-1.445486e-17</td>\n",
              "      <td>8.388315e-18</td>\n",
              "      <td>9.826312e-17</td>\n",
              "      <td>1.378080e-17</td>\n",
              "      <td>-1.653696e-16</td>\n",
              "      <td>-9.137272e-18</td>\n",
              "      <td>-2.019187e-16</td>\n",
              "      <td>1.901526e-15</td>\n",
              "      <td>3.063233e-17</td>\n",
              "      <td>-2.995827e-19</td>\n",
              "      <td>-9.923677e-18</td>\n",
              "    </tr>\n",
              "    <tr>\n",
              "      <th>std</th>\n",
              "      <td>1.000005e+00</td>\n",
              "      <td>1.000005e+00</td>\n",
              "      <td>1.000005e+00</td>\n",
              "      <td>1.000005e+00</td>\n",
              "      <td>1.000005e+00</td>\n",
              "      <td>1.000005e+00</td>\n",
              "      <td>1.000005e+00</td>\n",
              "      <td>1.000005e+00</td>\n",
              "      <td>1.000005e+00</td>\n",
              "      <td>1.000005e+00</td>\n",
              "      <td>1.000005e+00</td>\n",
              "      <td>1.000005e+00</td>\n",
              "      <td>1.000005e+00</td>\n",
              "      <td>1.000005e+00</td>\n",
              "      <td>1.000005e+00</td>\n",
              "    </tr>\n",
              "    <tr>\n",
              "      <th>min</th>\n",
              "      <td>-1.789442e+00</td>\n",
              "      <td>-1.135775e+00</td>\n",
              "      <td>-2.025234e+00</td>\n",
              "      <td>-1.743784e-01</td>\n",
              "      <td>-1.530573e-01</td>\n",
              "      <td>-1.187571e-01</td>\n",
              "      <td>-1.753846e+00</td>\n",
              "      <td>-1.555898e-01</td>\n",
              "      <td>-2.511158e+00</td>\n",
              "      <td>-1.452211e-01</td>\n",
              "      <td>-1.234279e+00</td>\n",
              "      <td>-2.402581e+00</td>\n",
              "      <td>-1.692910e-01</td>\n",
              "      <td>-3.189411e-01</td>\n",
              "      <td>-1.026654e+02</td>\n",
              "    </tr>\n",
              "    <tr>\n",
              "      <th>25%</th>\n",
              "      <td>-8.607569e-01</td>\n",
              "      <td>-8.139212e-01</td>\n",
              "      <td>-8.958663e-01</td>\n",
              "      <td>-1.434799e-01</td>\n",
              "      <td>-1.380863e-01</td>\n",
              "      <td>-8.561877e-02</td>\n",
              "      <td>-7.445380e-01</td>\n",
              "      <td>-1.009934e-01</td>\n",
              "      <td>-7.396955e-01</td>\n",
              "      <td>-1.295222e-01</td>\n",
              "      <td>-7.451281e-01</td>\n",
              "      <td>-8.265197e-01</td>\n",
              "      <td>-1.656482e-01</td>\n",
              "      <td>-2.802844e-01</td>\n",
              "      <td>1.002821e-02</td>\n",
              "    </tr>\n",
              "    <tr>\n",
              "      <th>50%</th>\n",
              "      <td>-2.494023e-02</td>\n",
              "      <td>-3.527960e-01</td>\n",
              "      <td>-1.429542e-01</td>\n",
              "      <td>-1.357553e-01</td>\n",
              "      <td>-1.273927e-01</td>\n",
              "      <td>-6.904963e-02</td>\n",
              "      <td>-2.062405e-01</td>\n",
              "      <td>-7.369521e-02</td>\n",
              "      <td>-1.239227e-01</td>\n",
              "      <td>-1.138233e-01</td>\n",
              "      <td>-2.249243e-01</td>\n",
              "      <td>3.454878e-03</td>\n",
              "      <td>-1.609688e-01</td>\n",
              "      <td>-2.471615e-01</td>\n",
              "      <td>1.002821e-02</td>\n",
              "    </tr>\n",
              "    <tr>\n",
              "      <th>75%</th>\n",
              "      <td>8.108765e-01</td>\n",
              "      <td>5.523884e-01</td>\n",
              "      <td>6.099579e-01</td>\n",
              "      <td>-1.203060e-01</td>\n",
              "      <td>-1.124218e-01</td>\n",
              "      <td>-3.591136e-02</td>\n",
              "      <td>4.666315e-01</td>\n",
              "      <td>-5.549642e-02</td>\n",
              "      <td>6.361254e-01</td>\n",
              "      <td>-9.812434e-02</td>\n",
              "      <td>4.522337e-01</td>\n",
              "      <td>8.240983e-01</td>\n",
              "      <td>-1.499068e-01</td>\n",
              "      <td>-1.659773e-01</td>\n",
              "      <td>1.002821e-02</td>\n",
              "    </tr>\n",
              "    <tr>\n",
              "      <th>max</th>\n",
              "      <td>2.111036e+00</td>\n",
              "      <td>3.378818e+00</td>\n",
              "      <td>1.679757e+01</td>\n",
              "      <td>1.140485e+01</td>\n",
              "      <td>1.224291e+01</td>\n",
              "      <td>2.466867e+01</td>\n",
              "      <td>3.090832e+00</td>\n",
              "      <td>1.986308e+01</td>\n",
              "      <td>3.881575e+00</td>\n",
              "      <td>1.344482e+01</td>\n",
              "      <td>3.091238e+00</td>\n",
              "      <td>3.462990e+00</td>\n",
              "      <td>9.722368e+00</td>\n",
              "      <td>4.700224e+00</td>\n",
              "      <td>1.002821e-02</td>\n",
              "    </tr>\n",
              "  </tbody>\n",
              "</table>\n",
              "</div>\n",
              "    <div class=\"colab-df-buttons\">\n",
              "\n",
              "  <div class=\"colab-df-container\">\n",
              "    <button class=\"colab-df-convert\" onclick=\"convertToInteractive('df-f643df2c-9f93-4009-b432-94f846e0620f')\"\n",
              "            title=\"Convert this dataframe to an interactive table.\"\n",
              "            style=\"display:none;\">\n",
              "\n",
              "  <svg xmlns=\"http://www.w3.org/2000/svg\" height=\"24px\" viewBox=\"0 -960 960 960\">\n",
              "    <path d=\"M120-120v-720h720v720H120Zm60-500h600v-160H180v160Zm220 220h160v-160H400v160Zm0 220h160v-160H400v160ZM180-400h160v-160H180v160Zm440 0h160v-160H620v160ZM180-180h160v-160H180v160Zm440 0h160v-160H620v160Z\"/>\n",
              "  </svg>\n",
              "    </button>\n",
              "\n",
              "  <style>\n",
              "    .colab-df-container {\n",
              "      display:flex;\n",
              "      gap: 12px;\n",
              "    }\n",
              "\n",
              "    .colab-df-convert {\n",
              "      background-color: #E8F0FE;\n",
              "      border: none;\n",
              "      border-radius: 50%;\n",
              "      cursor: pointer;\n",
              "      display: none;\n",
              "      fill: #1967D2;\n",
              "      height: 32px;\n",
              "      padding: 0 0 0 0;\n",
              "      width: 32px;\n",
              "    }\n",
              "\n",
              "    .colab-df-convert:hover {\n",
              "      background-color: #E2EBFA;\n",
              "      box-shadow: 0px 1px 2px rgba(60, 64, 67, 0.3), 0px 1px 3px 1px rgba(60, 64, 67, 0.15);\n",
              "      fill: #174EA6;\n",
              "    }\n",
              "\n",
              "    .colab-df-buttons div {\n",
              "      margin-bottom: 4px;\n",
              "    }\n",
              "\n",
              "    [theme=dark] .colab-df-convert {\n",
              "      background-color: #3B4455;\n",
              "      fill: #D2E3FC;\n",
              "    }\n",
              "\n",
              "    [theme=dark] .colab-df-convert:hover {\n",
              "      background-color: #434B5C;\n",
              "      box-shadow: 0px 1px 3px 1px rgba(0, 0, 0, 0.15);\n",
              "      filter: drop-shadow(0px 1px 2px rgba(0, 0, 0, 0.3));\n",
              "      fill: #FFFFFF;\n",
              "    }\n",
              "  </style>\n",
              "\n",
              "    <script>\n",
              "      const buttonEl =\n",
              "        document.querySelector('#df-f643df2c-9f93-4009-b432-94f846e0620f button.colab-df-convert');\n",
              "      buttonEl.style.display =\n",
              "        google.colab.kernel.accessAllowed ? 'block' : 'none';\n",
              "\n",
              "      async function convertToInteractive(key) {\n",
              "        const element = document.querySelector('#df-f643df2c-9f93-4009-b432-94f846e0620f');\n",
              "        const dataTable =\n",
              "          await google.colab.kernel.invokeFunction('convertToInteractive',\n",
              "                                                    [key], {});\n",
              "        if (!dataTable) return;\n",
              "\n",
              "        const docLinkHtml = 'Like what you see? Visit the ' +\n",
              "          '<a target=\"_blank\" href=https://colab.research.google.com/notebooks/data_table.ipynb>data table notebook</a>'\n",
              "          + ' to learn more about interactive tables.';\n",
              "        element.innerHTML = '';\n",
              "        dataTable['output_type'] = 'display_data';\n",
              "        await google.colab.output.renderOutput(dataTable, element);\n",
              "        const docLink = document.createElement('div');\n",
              "        docLink.innerHTML = docLinkHtml;\n",
              "        element.appendChild(docLink);\n",
              "      }\n",
              "    </script>\n",
              "  </div>\n",
              "\n",
              "\n",
              "<div id=\"df-7825cfa9-dfba-4aa8-b820-ca5d53f10eb1\">\n",
              "  <button class=\"colab-df-quickchart\" onclick=\"quickchart('df-7825cfa9-dfba-4aa8-b820-ca5d53f10eb1')\"\n",
              "            title=\"Suggest charts\"\n",
              "            style=\"display:none;\">\n",
              "\n",
              "<svg xmlns=\"http://www.w3.org/2000/svg\" height=\"24px\"viewBox=\"0 0 24 24\"\n",
              "     width=\"24px\">\n",
              "    <g>\n",
              "        <path d=\"M19 3H5c-1.1 0-2 .9-2 2v14c0 1.1.9 2 2 2h14c1.1 0 2-.9 2-2V5c0-1.1-.9-2-2-2zM9 17H7v-7h2v7zm4 0h-2V7h2v10zm4 0h-2v-4h2v4z\"/>\n",
              "    </g>\n",
              "</svg>\n",
              "  </button>\n",
              "\n",
              "<style>\n",
              "  .colab-df-quickchart {\n",
              "      --bg-color: #E8F0FE;\n",
              "      --fill-color: #1967D2;\n",
              "      --hover-bg-color: #E2EBFA;\n",
              "      --hover-fill-color: #174EA6;\n",
              "      --disabled-fill-color: #AAA;\n",
              "      --disabled-bg-color: #DDD;\n",
              "  }\n",
              "\n",
              "  [theme=dark] .colab-df-quickchart {\n",
              "      --bg-color: #3B4455;\n",
              "      --fill-color: #D2E3FC;\n",
              "      --hover-bg-color: #434B5C;\n",
              "      --hover-fill-color: #FFFFFF;\n",
              "      --disabled-bg-color: #3B4455;\n",
              "      --disabled-fill-color: #666;\n",
              "  }\n",
              "\n",
              "  .colab-df-quickchart {\n",
              "    background-color: var(--bg-color);\n",
              "    border: none;\n",
              "    border-radius: 50%;\n",
              "    cursor: pointer;\n",
              "    display: none;\n",
              "    fill: var(--fill-color);\n",
              "    height: 32px;\n",
              "    padding: 0;\n",
              "    width: 32px;\n",
              "  }\n",
              "\n",
              "  .colab-df-quickchart:hover {\n",
              "    background-color: var(--hover-bg-color);\n",
              "    box-shadow: 0 1px 2px rgba(60, 64, 67, 0.3), 0 1px 3px 1px rgba(60, 64, 67, 0.15);\n",
              "    fill: var(--button-hover-fill-color);\n",
              "  }\n",
              "\n",
              "  .colab-df-quickchart-complete:disabled,\n",
              "  .colab-df-quickchart-complete:disabled:hover {\n",
              "    background-color: var(--disabled-bg-color);\n",
              "    fill: var(--disabled-fill-color);\n",
              "    box-shadow: none;\n",
              "  }\n",
              "\n",
              "  .colab-df-spinner {\n",
              "    border: 2px solid var(--fill-color);\n",
              "    border-color: transparent;\n",
              "    border-bottom-color: var(--fill-color);\n",
              "    animation:\n",
              "      spin 1s steps(1) infinite;\n",
              "  }\n",
              "\n",
              "  @keyframes spin {\n",
              "    0% {\n",
              "      border-color: transparent;\n",
              "      border-bottom-color: var(--fill-color);\n",
              "      border-left-color: var(--fill-color);\n",
              "    }\n",
              "    20% {\n",
              "      border-color: transparent;\n",
              "      border-left-color: var(--fill-color);\n",
              "      border-top-color: var(--fill-color);\n",
              "    }\n",
              "    30% {\n",
              "      border-color: transparent;\n",
              "      border-left-color: var(--fill-color);\n",
              "      border-top-color: var(--fill-color);\n",
              "      border-right-color: var(--fill-color);\n",
              "    }\n",
              "    40% {\n",
              "      border-color: transparent;\n",
              "      border-right-color: var(--fill-color);\n",
              "      border-top-color: var(--fill-color);\n",
              "    }\n",
              "    60% {\n",
              "      border-color: transparent;\n",
              "      border-right-color: var(--fill-color);\n",
              "    }\n",
              "    80% {\n",
              "      border-color: transparent;\n",
              "      border-right-color: var(--fill-color);\n",
              "      border-bottom-color: var(--fill-color);\n",
              "    }\n",
              "    90% {\n",
              "      border-color: transparent;\n",
              "      border-bottom-color: var(--fill-color);\n",
              "    }\n",
              "  }\n",
              "</style>\n",
              "\n",
              "  <script>\n",
              "    async function quickchart(key) {\n",
              "      const quickchartButtonEl =\n",
              "        document.querySelector('#' + key + ' button');\n",
              "      quickchartButtonEl.disabled = true;  // To prevent multiple clicks.\n",
              "      quickchartButtonEl.classList.add('colab-df-spinner');\n",
              "      try {\n",
              "        const charts = await google.colab.kernel.invokeFunction(\n",
              "            'suggestCharts', [key], {});\n",
              "      } catch (error) {\n",
              "        console.error('Error during call to suggestCharts:', error);\n",
              "      }\n",
              "      quickchartButtonEl.classList.remove('colab-df-spinner');\n",
              "      quickchartButtonEl.classList.add('colab-df-quickchart-complete');\n",
              "    }\n",
              "    (() => {\n",
              "      let quickchartButtonEl =\n",
              "        document.querySelector('#df-7825cfa9-dfba-4aa8-b820-ca5d53f10eb1 button');\n",
              "      quickchartButtonEl.style.display =\n",
              "        google.colab.kernel.accessAllowed ? 'block' : 'none';\n",
              "    })();\n",
              "  </script>\n",
              "</div>\n",
              "    </div>\n",
              "  </div>\n"
            ],
            "application/vnd.google.colaboratory.intrinsic+json": {
              "type": "dataframe",
              "summary": "{\n  \"name\": \"train\",\n  \"rows\": 8,\n  \"fields\": [\n    {\n      \"column\": \"Age\",\n      \"properties\": {\n        \"dtype\": \"number\",\n        \"std\": 33541.90076810937,\n        \"min\": -1.7894421918309238,\n        \"max\": 94871.0,\n        \"num_unique_values\": 8,\n        \"samples\": [\n          5.212738814696058e-17,\n          -0.02494022690226577,\n          94871.0\n        ],\n        \"semantic_type\": \"\",\n        \"description\": \"\"\n      }\n    },\n    {\n      \"column\": \"Annual_Income\",\n      \"properties\": {\n        \"dtype\": \"number\",\n        \"std\": 33541.830978013364,\n        \"min\": -1.1357753547418672,\n        \"max\": 94871.0,\n        \"num_unique_values\": 8,\n        \"samples\": [\n          -1.1803558005691074e-16,\n          -0.35279596828166526,\n          94871.0\n        ],\n        \"semantic_type\": \"\",\n        \"description\": \"\"\n      }\n    },\n    {\n      \"column\": \"Num_Bank_Accounts\",\n      \"properties\": {\n        \"dtype\": \"number\",\n        \"std\": 33541.189299053665,\n        \"min\": -2.0252344284369026,\n        \"max\": 94871.0,\n        \"num_unique_values\": 8,\n        \"samples\": [\n          -5.422446698045899e-17,\n          -0.1429541764267633,\n          94871.0\n        ],\n        \"semantic_type\": \"\",\n        \"description\": \"\"\n      }\n    },\n    {\n      \"column\": \"Num_Credit_Card\",\n      \"properties\": {\n        \"dtype\": \"number\",\n        \"std\": 33541.366403206455,\n        \"min\": -0.17437844718977372,\n        \"max\": 94871.0,\n        \"num_unique_values\": 8,\n        \"samples\": [\n          2.067120564448437e-17,\n          -0.13575527022814035,\n          94871.0\n        ],\n        \"semantic_type\": \"\",\n        \"description\": \"\"\n      }\n    },\n    {\n      \"column\": \"Interest_Rate\",\n      \"properties\": {\n        \"dtype\": \"number\",\n        \"std\": 33541.3219402949,\n        \"min\": -0.15305728553270642,\n        \"max\": 94871.0,\n        \"num_unique_values\": 8,\n        \"samples\": [\n          -1.4454864816614068e-17,\n          -0.12739274856441385,\n          94871.0\n        ],\n        \"semantic_type\": \"\",\n        \"description\": \"\"\n      }\n    },\n    {\n      \"column\": \"Num_of_Loan\",\n      \"properties\": {\n        \"dtype\": \"number\",\n        \"std\": 33540.68398123106,\n        \"min\": -0.11875705041517601,\n        \"max\": 94871.0,\n        \"num_unique_values\": 8,\n        \"samples\": [\n          8.388315333993656e-18,\n          -0.06904963412808532,\n          94871.0\n        ],\n        \"semantic_type\": \"\",\n        \"description\": \"\"\n      }\n    },\n    {\n      \"column\": \"Delay_from_due_date\",\n      \"properties\": {\n        \"dtype\": \"number\",\n        \"std\": 33541.870165921326,\n        \"min\": -1.7538459479847939,\n        \"max\": 94871.0,\n        \"num_unique_values\": 8,\n        \"samples\": [\n          9.826312248392569e-17,\n          -0.2062404872480221,\n          94871.0\n        ],\n        \"semantic_type\": \"\",\n        \"description\": \"\"\n      }\n    },\n    {\n      \"column\": \"Num_of_Delayed_Payment\",\n      \"properties\": {\n        \"dtype\": \"number\",\n        \"std\": 33540.93017356201,\n        \"min\": -0.1555897599928473,\n        \"max\": 94871.0,\n        \"num_unique_values\": 8,\n        \"samples\": [\n          1.3780803762989579e-17,\n          -0.07369520885330003,\n          94871.0\n        ],\n        \"semantic_type\": \"\",\n        \"description\": \"\"\n      }\n    },\n    {\n      \"column\": \"Changed_Credit_Limit\",\n      \"properties\": {\n        \"dtype\": \"number\",\n        \"std\": 33541.855532980946,\n        \"min\": -2.5111578977438307,\n        \"max\": 94871.0,\n        \"num_unique_values\": 8,\n        \"samples\": [\n          -1.6536964515587495e-16,\n          -0.12392271953415561,\n          94871.0\n        ],\n        \"semantic_type\": \"\",\n        \"description\": \"\"\n      }\n    },\n    {\n      \"column\": \"Num_Credit_Inquiries\",\n      \"properties\": {\n        \"dtype\": \"number\",\n        \"std\": 33541.25905461383,\n        \"min\": -0.1452211409950932,\n        \"max\": 94871.0,\n        \"num_unique_values\": 8,\n        \"samples\": [\n          -9.13727206024309e-18,\n          -0.11382327693166258,\n          94871.0\n        ],\n        \"semantic_type\": \"\",\n        \"description\": \"\"\n      }\n    },\n    {\n      \"column\": \"Outstanding_Debt\",\n      \"properties\": {\n        \"dtype\": \"number\",\n        \"std\": 33541.84560002873,\n        \"min\": -1.234278534762814,\n        \"max\": 94871.0,\n        \"num_unique_values\": 8,\n        \"samples\": [\n          -2.019187333968473e-16,\n          -0.22492434245897963,\n          94871.0\n        ],\n        \"semantic_type\": \"\",\n        \"description\": \"\"\n      }\n    },\n    {\n      \"column\": \"Credit_Utilization_Ratio\",\n      \"properties\": {\n        \"dtype\": \"number\",\n        \"std\": 33541.85964171008,\n        \"min\": -2.4025809828292575,\n        \"max\": 94871.0,\n        \"num_unique_values\": 8,\n        \"samples\": [\n          1.901526232274687e-15,\n          0.003454877701046706,\n          94871.0\n        ],\n        \"semantic_type\": \"\",\n        \"description\": \"\"\n      }\n    },\n    {\n      \"column\": \"Total_EMI_per_month\",\n      \"properties\": {\n        \"dtype\": \"number\",\n        \"std\": 33541.45494868168,\n        \"min\": -0.16929103506114215,\n        \"max\": 94871.0,\n        \"num_unique_values\": 8,\n        \"samples\": [\n          3.0632330103601834e-17,\n          -0.1609687758345233,\n          94871.0\n        ],\n        \"semantic_type\": \"\",\n        \"description\": \"\"\n      }\n    },\n    {\n      \"column\": \"Amount_invested_monthly\",\n      \"properties\": {\n        \"dtype\": \"number\",\n        \"std\": 33541.72698908499,\n        \"min\": -0.31894110987793084,\n        \"max\": 94871.0,\n        \"num_unique_values\": 8,\n        \"samples\": [\n          -2.9958269049977345e-19,\n          -0.24716145694692085,\n          94871.0\n        ],\n        \"semantic_type\": \"\",\n        \"description\": \"\"\n      }\n    },\n    {\n      \"column\": \"Monthly_Balance\",\n      \"properties\": {\n        \"dtype\": \"number\",\n        \"std\": 33547.11587580982,\n        \"min\": -102.66544049451868,\n        \"max\": 94871.0,\n        \"num_unique_values\": 5,\n        \"samples\": [\n          -9.923676622804996e-18,\n          0.010028206996501674,\n          1.0000052703560915\n        ],\n        \"semantic_type\": \"\",\n        \"description\": \"\"\n      }\n    }\n  ]\n}"
            }
          },
          "metadata": {},
          "execution_count": 74
        }
      ]
    },
    {
      "cell_type": "code",
      "source": [
        "for col in categorical:\n",
        "    train[col] = LabelEncoder().fit_transform(train[col])"
      ],
      "metadata": {
        "id": "QDRhuSo3eIJk"
      },
      "execution_count": 75,
      "outputs": []
    },
    {
      "cell_type": "code",
      "source": [
        "train[categorical]"
      ],
      "metadata": {
        "colab": {
          "base_uri": "https://localhost:8080/",
          "height": 423
        },
        "id": "fKonlyUneK3J",
        "outputId": "f3ec471c-f920-4669-9851-403b0ed7d564"
      },
      "execution_count": 76,
      "outputs": [
        {
          "output_type": "execute_result",
          "data": {
            "text/plain": [
              "       Occupation  Type_of_Loan  Credit_Mix  Credit_History_Age  \\\n",
              "0              12           128           2                 180   \n",
              "1              12           128           1                 137   \n",
              "2              12           128           1                 184   \n",
              "3              12           128           1                 185   \n",
              "4              12           128           1                 186   \n",
              "...           ...           ...         ...                 ...   \n",
              "94866           9           683           2                 307   \n",
              "94867           9           683           2                 308   \n",
              "94868           9           683           1                 309   \n",
              "94869           9           683           1                 310   \n",
              "94870           9           683           1                 301   \n",
              "\n",
              "       Payment_of_Min_Amount  Payment_Behaviour  \n",
              "0                          0                  2  \n",
              "1                          0                  3  \n",
              "2                          0                  4  \n",
              "3                          0                  5  \n",
              "4                          0                  1  \n",
              "...                      ...                ...  \n",
              "94866                      0                  0  \n",
              "94867                      0                  1  \n",
              "94868                      0                  0  \n",
              "94869                      0                  3  \n",
              "94870                      0                  5  \n",
              "\n",
              "[94871 rows x 6 columns]"
            ],
            "text/html": [
              "\n",
              "  <div id=\"df-2473b8b2-8908-4a50-846a-45b0dd2fab30\" class=\"colab-df-container\">\n",
              "    <div>\n",
              "<style scoped>\n",
              "    .dataframe tbody tr th:only-of-type {\n",
              "        vertical-align: middle;\n",
              "    }\n",
              "\n",
              "    .dataframe tbody tr th {\n",
              "        vertical-align: top;\n",
              "    }\n",
              "\n",
              "    .dataframe thead th {\n",
              "        text-align: right;\n",
              "    }\n",
              "</style>\n",
              "<table border=\"1\" class=\"dataframe\">\n",
              "  <thead>\n",
              "    <tr style=\"text-align: right;\">\n",
              "      <th></th>\n",
              "      <th>Occupation</th>\n",
              "      <th>Type_of_Loan</th>\n",
              "      <th>Credit_Mix</th>\n",
              "      <th>Credit_History_Age</th>\n",
              "      <th>Payment_of_Min_Amount</th>\n",
              "      <th>Payment_Behaviour</th>\n",
              "    </tr>\n",
              "  </thead>\n",
              "  <tbody>\n",
              "    <tr>\n",
              "      <th>0</th>\n",
              "      <td>12</td>\n",
              "      <td>128</td>\n",
              "      <td>2</td>\n",
              "      <td>180</td>\n",
              "      <td>0</td>\n",
              "      <td>2</td>\n",
              "    </tr>\n",
              "    <tr>\n",
              "      <th>1</th>\n",
              "      <td>12</td>\n",
              "      <td>128</td>\n",
              "      <td>1</td>\n",
              "      <td>137</td>\n",
              "      <td>0</td>\n",
              "      <td>3</td>\n",
              "    </tr>\n",
              "    <tr>\n",
              "      <th>2</th>\n",
              "      <td>12</td>\n",
              "      <td>128</td>\n",
              "      <td>1</td>\n",
              "      <td>184</td>\n",
              "      <td>0</td>\n",
              "      <td>4</td>\n",
              "    </tr>\n",
              "    <tr>\n",
              "      <th>3</th>\n",
              "      <td>12</td>\n",
              "      <td>128</td>\n",
              "      <td>1</td>\n",
              "      <td>185</td>\n",
              "      <td>0</td>\n",
              "      <td>5</td>\n",
              "    </tr>\n",
              "    <tr>\n",
              "      <th>4</th>\n",
              "      <td>12</td>\n",
              "      <td>128</td>\n",
              "      <td>1</td>\n",
              "      <td>186</td>\n",
              "      <td>0</td>\n",
              "      <td>1</td>\n",
              "    </tr>\n",
              "    <tr>\n",
              "      <th>...</th>\n",
              "      <td>...</td>\n",
              "      <td>...</td>\n",
              "      <td>...</td>\n",
              "      <td>...</td>\n",
              "      <td>...</td>\n",
              "      <td>...</td>\n",
              "    </tr>\n",
              "    <tr>\n",
              "      <th>94866</th>\n",
              "      <td>9</td>\n",
              "      <td>683</td>\n",
              "      <td>2</td>\n",
              "      <td>307</td>\n",
              "      <td>0</td>\n",
              "      <td>0</td>\n",
              "    </tr>\n",
              "    <tr>\n",
              "      <th>94867</th>\n",
              "      <td>9</td>\n",
              "      <td>683</td>\n",
              "      <td>2</td>\n",
              "      <td>308</td>\n",
              "      <td>0</td>\n",
              "      <td>1</td>\n",
              "    </tr>\n",
              "    <tr>\n",
              "      <th>94868</th>\n",
              "      <td>9</td>\n",
              "      <td>683</td>\n",
              "      <td>1</td>\n",
              "      <td>309</td>\n",
              "      <td>0</td>\n",
              "      <td>0</td>\n",
              "    </tr>\n",
              "    <tr>\n",
              "      <th>94869</th>\n",
              "      <td>9</td>\n",
              "      <td>683</td>\n",
              "      <td>1</td>\n",
              "      <td>310</td>\n",
              "      <td>0</td>\n",
              "      <td>3</td>\n",
              "    </tr>\n",
              "    <tr>\n",
              "      <th>94870</th>\n",
              "      <td>9</td>\n",
              "      <td>683</td>\n",
              "      <td>1</td>\n",
              "      <td>301</td>\n",
              "      <td>0</td>\n",
              "      <td>5</td>\n",
              "    </tr>\n",
              "  </tbody>\n",
              "</table>\n",
              "<p>94871 rows × 6 columns</p>\n",
              "</div>\n",
              "    <div class=\"colab-df-buttons\">\n",
              "\n",
              "  <div class=\"colab-df-container\">\n",
              "    <button class=\"colab-df-convert\" onclick=\"convertToInteractive('df-2473b8b2-8908-4a50-846a-45b0dd2fab30')\"\n",
              "            title=\"Convert this dataframe to an interactive table.\"\n",
              "            style=\"display:none;\">\n",
              "\n",
              "  <svg xmlns=\"http://www.w3.org/2000/svg\" height=\"24px\" viewBox=\"0 -960 960 960\">\n",
              "    <path d=\"M120-120v-720h720v720H120Zm60-500h600v-160H180v160Zm220 220h160v-160H400v160Zm0 220h160v-160H400v160ZM180-400h160v-160H180v160Zm440 0h160v-160H620v160ZM180-180h160v-160H180v160Zm440 0h160v-160H620v160Z\"/>\n",
              "  </svg>\n",
              "    </button>\n",
              "\n",
              "  <style>\n",
              "    .colab-df-container {\n",
              "      display:flex;\n",
              "      gap: 12px;\n",
              "    }\n",
              "\n",
              "    .colab-df-convert {\n",
              "      background-color: #E8F0FE;\n",
              "      border: none;\n",
              "      border-radius: 50%;\n",
              "      cursor: pointer;\n",
              "      display: none;\n",
              "      fill: #1967D2;\n",
              "      height: 32px;\n",
              "      padding: 0 0 0 0;\n",
              "      width: 32px;\n",
              "    }\n",
              "\n",
              "    .colab-df-convert:hover {\n",
              "      background-color: #E2EBFA;\n",
              "      box-shadow: 0px 1px 2px rgba(60, 64, 67, 0.3), 0px 1px 3px 1px rgba(60, 64, 67, 0.15);\n",
              "      fill: #174EA6;\n",
              "    }\n",
              "\n",
              "    .colab-df-buttons div {\n",
              "      margin-bottom: 4px;\n",
              "    }\n",
              "\n",
              "    [theme=dark] .colab-df-convert {\n",
              "      background-color: #3B4455;\n",
              "      fill: #D2E3FC;\n",
              "    }\n",
              "\n",
              "    [theme=dark] .colab-df-convert:hover {\n",
              "      background-color: #434B5C;\n",
              "      box-shadow: 0px 1px 3px 1px rgba(0, 0, 0, 0.15);\n",
              "      filter: drop-shadow(0px 1px 2px rgba(0, 0, 0, 0.3));\n",
              "      fill: #FFFFFF;\n",
              "    }\n",
              "  </style>\n",
              "\n",
              "    <script>\n",
              "      const buttonEl =\n",
              "        document.querySelector('#df-2473b8b2-8908-4a50-846a-45b0dd2fab30 button.colab-df-convert');\n",
              "      buttonEl.style.display =\n",
              "        google.colab.kernel.accessAllowed ? 'block' : 'none';\n",
              "\n",
              "      async function convertToInteractive(key) {\n",
              "        const element = document.querySelector('#df-2473b8b2-8908-4a50-846a-45b0dd2fab30');\n",
              "        const dataTable =\n",
              "          await google.colab.kernel.invokeFunction('convertToInteractive',\n",
              "                                                    [key], {});\n",
              "        if (!dataTable) return;\n",
              "\n",
              "        const docLinkHtml = 'Like what you see? Visit the ' +\n",
              "          '<a target=\"_blank\" href=https://colab.research.google.com/notebooks/data_table.ipynb>data table notebook</a>'\n",
              "          + ' to learn more about interactive tables.';\n",
              "        element.innerHTML = '';\n",
              "        dataTable['output_type'] = 'display_data';\n",
              "        await google.colab.output.renderOutput(dataTable, element);\n",
              "        const docLink = document.createElement('div');\n",
              "        docLink.innerHTML = docLinkHtml;\n",
              "        element.appendChild(docLink);\n",
              "      }\n",
              "    </script>\n",
              "  </div>\n",
              "\n",
              "\n",
              "<div id=\"df-32cc5d70-f8cb-4542-a3d4-fa7fdbe7dde9\">\n",
              "  <button class=\"colab-df-quickchart\" onclick=\"quickchart('df-32cc5d70-f8cb-4542-a3d4-fa7fdbe7dde9')\"\n",
              "            title=\"Suggest charts\"\n",
              "            style=\"display:none;\">\n",
              "\n",
              "<svg xmlns=\"http://www.w3.org/2000/svg\" height=\"24px\"viewBox=\"0 0 24 24\"\n",
              "     width=\"24px\">\n",
              "    <g>\n",
              "        <path d=\"M19 3H5c-1.1 0-2 .9-2 2v14c0 1.1.9 2 2 2h14c1.1 0 2-.9 2-2V5c0-1.1-.9-2-2-2zM9 17H7v-7h2v7zm4 0h-2V7h2v10zm4 0h-2v-4h2v4z\"/>\n",
              "    </g>\n",
              "</svg>\n",
              "  </button>\n",
              "\n",
              "<style>\n",
              "  .colab-df-quickchart {\n",
              "      --bg-color: #E8F0FE;\n",
              "      --fill-color: #1967D2;\n",
              "      --hover-bg-color: #E2EBFA;\n",
              "      --hover-fill-color: #174EA6;\n",
              "      --disabled-fill-color: #AAA;\n",
              "      --disabled-bg-color: #DDD;\n",
              "  }\n",
              "\n",
              "  [theme=dark] .colab-df-quickchart {\n",
              "      --bg-color: #3B4455;\n",
              "      --fill-color: #D2E3FC;\n",
              "      --hover-bg-color: #434B5C;\n",
              "      --hover-fill-color: #FFFFFF;\n",
              "      --disabled-bg-color: #3B4455;\n",
              "      --disabled-fill-color: #666;\n",
              "  }\n",
              "\n",
              "  .colab-df-quickchart {\n",
              "    background-color: var(--bg-color);\n",
              "    border: none;\n",
              "    border-radius: 50%;\n",
              "    cursor: pointer;\n",
              "    display: none;\n",
              "    fill: var(--fill-color);\n",
              "    height: 32px;\n",
              "    padding: 0;\n",
              "    width: 32px;\n",
              "  }\n",
              "\n",
              "  .colab-df-quickchart:hover {\n",
              "    background-color: var(--hover-bg-color);\n",
              "    box-shadow: 0 1px 2px rgba(60, 64, 67, 0.3), 0 1px 3px 1px rgba(60, 64, 67, 0.15);\n",
              "    fill: var(--button-hover-fill-color);\n",
              "  }\n",
              "\n",
              "  .colab-df-quickchart-complete:disabled,\n",
              "  .colab-df-quickchart-complete:disabled:hover {\n",
              "    background-color: var(--disabled-bg-color);\n",
              "    fill: var(--disabled-fill-color);\n",
              "    box-shadow: none;\n",
              "  }\n",
              "\n",
              "  .colab-df-spinner {\n",
              "    border: 2px solid var(--fill-color);\n",
              "    border-color: transparent;\n",
              "    border-bottom-color: var(--fill-color);\n",
              "    animation:\n",
              "      spin 1s steps(1) infinite;\n",
              "  }\n",
              "\n",
              "  @keyframes spin {\n",
              "    0% {\n",
              "      border-color: transparent;\n",
              "      border-bottom-color: var(--fill-color);\n",
              "      border-left-color: var(--fill-color);\n",
              "    }\n",
              "    20% {\n",
              "      border-color: transparent;\n",
              "      border-left-color: var(--fill-color);\n",
              "      border-top-color: var(--fill-color);\n",
              "    }\n",
              "    30% {\n",
              "      border-color: transparent;\n",
              "      border-left-color: var(--fill-color);\n",
              "      border-top-color: var(--fill-color);\n",
              "      border-right-color: var(--fill-color);\n",
              "    }\n",
              "    40% {\n",
              "      border-color: transparent;\n",
              "      border-right-color: var(--fill-color);\n",
              "      border-top-color: var(--fill-color);\n",
              "    }\n",
              "    60% {\n",
              "      border-color: transparent;\n",
              "      border-right-color: var(--fill-color);\n",
              "    }\n",
              "    80% {\n",
              "      border-color: transparent;\n",
              "      border-right-color: var(--fill-color);\n",
              "      border-bottom-color: var(--fill-color);\n",
              "    }\n",
              "    90% {\n",
              "      border-color: transparent;\n",
              "      border-bottom-color: var(--fill-color);\n",
              "    }\n",
              "  }\n",
              "</style>\n",
              "\n",
              "  <script>\n",
              "    async function quickchart(key) {\n",
              "      const quickchartButtonEl =\n",
              "        document.querySelector('#' + key + ' button');\n",
              "      quickchartButtonEl.disabled = true;  // To prevent multiple clicks.\n",
              "      quickchartButtonEl.classList.add('colab-df-spinner');\n",
              "      try {\n",
              "        const charts = await google.colab.kernel.invokeFunction(\n",
              "            'suggestCharts', [key], {});\n",
              "      } catch (error) {\n",
              "        console.error('Error during call to suggestCharts:', error);\n",
              "      }\n",
              "      quickchartButtonEl.classList.remove('colab-df-spinner');\n",
              "      quickchartButtonEl.classList.add('colab-df-quickchart-complete');\n",
              "    }\n",
              "    (() => {\n",
              "      let quickchartButtonEl =\n",
              "        document.querySelector('#df-32cc5d70-f8cb-4542-a3d4-fa7fdbe7dde9 button');\n",
              "      quickchartButtonEl.style.display =\n",
              "        google.colab.kernel.accessAllowed ? 'block' : 'none';\n",
              "    })();\n",
              "  </script>\n",
              "</div>\n",
              "    </div>\n",
              "  </div>\n"
            ],
            "application/vnd.google.colaboratory.intrinsic+json": {
              "type": "dataframe",
              "summary": "{\n  \"name\": \"train[categorical]\",\n  \"rows\": 94871,\n  \"fields\": [\n    {\n      \"column\": \"Occupation\",\n      \"properties\": {\n        \"dtype\": \"number\",\n        \"std\": 4,\n        \"min\": 0,\n        \"max\": 14,\n        \"num_unique_values\": 15,\n        \"samples\": [\n          8,\n          11,\n          12\n        ],\n        \"semantic_type\": \"\",\n        \"description\": \"\"\n      }\n    },\n    {\n      \"column\": \"Type_of_Loan\",\n      \"properties\": {\n        \"dtype\": \"number\",\n        \"std\": 1714,\n        \"min\": 0,\n        \"max\": 6259,\n        \"num_unique_values\": 6260,\n        \"samples\": [\n          2808,\n          4518,\n          4882\n        ],\n        \"semantic_type\": \"\",\n        \"description\": \"\"\n      }\n    },\n    {\n      \"column\": \"Credit_Mix\",\n      \"properties\": {\n        \"dtype\": \"number\",\n        \"std\": 0,\n        \"min\": 0,\n        \"max\": 2,\n        \"num_unique_values\": 3,\n        \"samples\": [\n          2,\n          1,\n          0\n        ],\n        \"semantic_type\": \"\",\n        \"description\": \"\"\n      }\n    },\n    {\n      \"column\": \"Credit_History_Age\",\n      \"properties\": {\n        \"dtype\": \"number\",\n        \"std\": 106,\n        \"min\": 0,\n        \"max\": 403,\n        \"num_unique_values\": 404,\n        \"samples\": [\n          245,\n          50,\n          362\n        ],\n        \"semantic_type\": \"\",\n        \"description\": \"\"\n      }\n    },\n    {\n      \"column\": \"Payment_of_Min_Amount\",\n      \"properties\": {\n        \"dtype\": \"number\",\n        \"std\": 0,\n        \"min\": 0,\n        \"max\": 1,\n        \"num_unique_values\": 2,\n        \"samples\": [\n          1,\n          0\n        ],\n        \"semantic_type\": \"\",\n        \"description\": \"\"\n      }\n    },\n    {\n      \"column\": \"Payment_Behaviour\",\n      \"properties\": {\n        \"dtype\": \"number\",\n        \"std\": 1,\n        \"min\": 0,\n        \"max\": 5,\n        \"num_unique_values\": 6,\n        \"samples\": [\n          2,\n          3\n        ],\n        \"semantic_type\": \"\",\n        \"description\": \"\"\n      }\n    }\n  ]\n}"
            }
          },
          "metadata": {},
          "execution_count": 76
        }
      ]
    },
    {
      "cell_type": "code",
      "source": [
        "X = train.drop('Credit_Score',axis=1)\n",
        "y = train.Credit_Score"
      ],
      "metadata": {
        "id": "7RG-BMLceQOz"
      },
      "execution_count": 77,
      "outputs": []
    },
    {
      "cell_type": "code",
      "source": [
        "y.value_counts()"
      ],
      "metadata": {
        "colab": {
          "base_uri": "https://localhost:8080/"
        },
        "id": "yldTX39GeR06",
        "outputId": "b47a01fd-fef3-45dd-d57a-ab58f849d041"
      },
      "execution_count": 78,
      "outputs": [
        {
          "output_type": "execute_result",
          "data": {
            "text/plain": [
              "Credit_Score\n",
              "Standard    50491\n",
              "Poor        27523\n",
              "Good        16857\n",
              "Name: count, dtype: int64"
            ]
          },
          "metadata": {},
          "execution_count": 78
        }
      ]
    },
    {
      "cell_type": "code",
      "source": [
        "sns.histplot(y)"
      ],
      "metadata": {
        "colab": {
          "base_uri": "https://localhost:8080/",
          "height": 467
        },
        "id": "0f23AAYOeTGH",
        "outputId": "49777cf0-0868-456e-9704-7efc80cc14eb"
      },
      "execution_count": 79,
      "outputs": [
        {
          "output_type": "execute_result",
          "data": {
            "text/plain": [
              "<Axes: xlabel='Credit_Score', ylabel='Count'>"
            ]
          },
          "metadata": {},
          "execution_count": 79
        },
        {
          "output_type": "display_data",
          "data": {
            "text/plain": [
              "<Figure size 640x480 with 1 Axes>"
            ],
            "image/png": "[encoded data removed]"
          },
          "metadata": {}
        }
      ]
    },
    {
      "cell_type": "code",
      "source": [
        "y = y.map({'Poor':0,'Good':1,'Standard':2})"
      ],
      "metadata": {
        "id": "wuHrvU9neU-B"
      },
      "execution_count": 80,
      "outputs": []
    },
    {
      "cell_type": "code",
      "source": [
        "x_train,x_test,y_train,y_test = train_test_split(X,y,test_size=0.2,random_state=42)\n",
        "x_train.shape,x_test.shape"
      ],
      "metadata": {
        "colab": {
          "base_uri": "https://localhost:8080/"
        },
        "id": "ZmhqgiQQeY7e",
        "outputId": "1deac8b4-b415-47df-9147-e0e97c30f458"
      },
      "execution_count": 81,
      "outputs": [
        {
          "output_type": "execute_result",
          "data": {
            "text/plain": [
              "((75896, 21), (18975, 21))"
            ]
          },
          "metadata": {},
          "execution_count": 81
        }
      ]
    },
    {
      "cell_type": "markdown",
      "source": [
        "# MODEL PEMBELAJARAN"
      ],
      "metadata": {
        "id": "bDWcBhQ9e55d"
      }
    },
    {
      "cell_type": "code",
      "source": [
        "# @title Random Forest\n",
        "model = RandomForestClassifier(random_state=1234)\n",
        "model.fit(x_train,y_train)\n",
        "y_pred = model.predict(x_test)\n",
        "print(classification_report(y_test,y_pred))\n",
        "confusion_matrixDisply = ConfusionMatrixDisplay(confusion_matrix(y_test,y_pred),display_labels=['Poor','Good','Standard'])\n",
        "confusion_matrixDisply.plot()"
      ],
      "metadata": {
        "colab": {
          "base_uri": "https://localhost:8080/",
          "height": 643
        },
        "id": "SMRiAuBSfPMf",
        "outputId": "4cf9b18a-5a39-4001-850c-c9d7684c03a0"
      },
      "execution_count": 82,
      "outputs": [
        {
          "output_type": "stream",
          "name": "stdout",
          "text": [
            "              precision    recall  f1-score   support\n",
            "\n",
            "           0       0.78      0.81      0.80      5523\n",
            "           1       0.75      0.71      0.73      3443\n",
            "           2       0.80      0.80      0.80     10009\n",
            "\n",
            "    accuracy                           0.79     18975\n",
            "   macro avg       0.78      0.77      0.78     18975\n",
            "weighted avg       0.79      0.79      0.79     18975\n",
            "\n"
          ]
        },
        {
          "output_type": "execute_result",
          "data": {
            "text/plain": [
              "<sklearn.metrics._plot.confusion_matrix.ConfusionMatrixDisplay at 0x7c13464443a0>"
            ]
          },
          "metadata": {},
          "execution_count": 82
        },
        {
          "output_type": "display_data",
          "data": {
            "text/plain": [
              "<Figure size 640x480 with 2 Axes>"
            ],
            "image/png": "[encoded data removed]"
          },
          "metadata": {}
        }
      ]
    },
    {
      "cell_type": "code",
      "source": [
        "# @title XGBoost\n",
        "model = XGBClassifier(random_state=42)\n",
        "model.fit(x_train,y_train)\n",
        "y_pred = model.predict(x_test)\n",
        "print(classification_report(y_test,y_pred))\n",
        "confusion_matrixDisply = ConfusionMatrixDisplay(confusion_matrix(y_test,y_pred),display_labels=['Poor','Good','Standard'])\n",
        "confusion_matrixDisply.plot()"
      ],
      "metadata": {
        "colab": {
          "base_uri": "https://localhost:8080/",
          "height": 640
        },
        "id": "ErGA3kaVfpwK",
        "outputId": "a481949b-5434-43d4-cd5a-39da9c949ae7"
      },
      "execution_count": 83,
      "outputs": [
        {
          "output_type": "stream",
          "name": "stdout",
          "text": [
            "              precision    recall  f1-score   support\n",
            "\n",
            "           0       0.77      0.74      0.75      5523\n",
            "           1       0.69      0.68      0.68      3443\n",
            "           2       0.78      0.79      0.78     10009\n",
            "\n",
            "    accuracy                           0.76     18975\n",
            "   macro avg       0.74      0.74      0.74     18975\n",
            "weighted avg       0.76      0.76      0.76     18975\n",
            "\n"
          ]
        },
        {
          "output_type": "execute_result",
          "data": {
            "text/plain": [
              "<sklearn.metrics._plot.confusion_matrix.ConfusionMatrixDisplay at 0x7c1345a28160>"
            ]
          },
          "metadata": {},
          "execution_count": 83
        },
        {
          "output_type": "display_data",
          "data": {
            "text/plain": [
              "<Figure size 640x480 with 2 Axes>"
            ],
            "image/png": "[encoded data removed]"
          },
          "metadata": {}
        }
      ]
    },
    {
      "cell_type": "markdown",
      "source": [
        "# EVALUASI MODEL"
      ],
      "metadata": {
        "id": "n41fJgK1s5Fn"
      }
    },
    {
      "cell_type": "code",
      "source": [
        "from sklearn.metrics import mean_absolute_error, accuracy_score, calinski_harabasz_score\n",
        "\n",
        "# Latih model Random Forest\n",
        "rf_model = RandomForestClassifier(random_state=1234)\n",
        "rf_model.fit(x_train, y_train)\n",
        "rf_y_pred = rf_model.predict(x_test)\n",
        "\n",
        "# Hitung MAE dan Akurasi untuk model Random Forest\n",
        "rf_mae = mean_absolute_error(y_test, rf_y_pred)\n",
        "rf_accuracy = accuracy_score(y_test, rf_y_pred)\n",
        "\n",
        "print(\"Random Forest:\")\n",
        "print(\"MAE:\", rf_mae)\n",
        "print(\"Akurasi:\", rf_accuracy)\n",
        "\n",
        "# Latih model XGBoost\n",
        "xgb_model = XGBClassifier(random_state=42)\n",
        "xgb_model.fit(x_train, y_train)\n",
        "xgb_y_pred = xgb_model.predict(x_test)\n",
        "\n",
        "# Hitung MAE dan Akurasi untuk model XGBoost\n",
        "xgb_mae = mean_absolute_error(y_test, xgb_y_pred)\n",
        "xgb_accuracy = accuracy_score(y_test, xgb_y_pred)\n",
        "\n",
        "print(\"\\nXGBoost:\")\n",
        "print(\"MAE:\", xgb_mae)\n",
        "print(\"Akurasi:\", xgb_accuracy)\n",
        "\n",
        "# Hitung Calinski-Harabasz Index\n",
        "ch_score_rf = calinski_harabasz_score(x_test, rf_y_pred)\n",
        "ch_score_xgb = calinski_harabasz_score(x_test, xgb_y_pred)\n",
        "\n",
        "print(\"\\nCalinski-Harabasz Index:\")\n",
        "print(\"Random Forest:\", ch_score_rf)\n",
        "print(\"XGBoost:\", ch_score_xgb)\n"
      ],
      "metadata": {
        "colab": {
          "base_uri": "https://localhost:8080/"
        },
        "id": "01RU3590zlVs",
        "outputId": "bb09f0bb-a3c9-47f5-d44e-c094120f8f21"
      },
      "execution_count": 84,
      "outputs": [
        {
          "output_type": "stream",
          "name": "stdout",
          "text": [
            "Random Forest:\n",
            "MAE: 0.3266403162055336\n",
            "Akurasi: 0.7886693017127799\n",
            "\n",
            "XGBoost:\n",
            "MAE: 0.37175230566534917\n",
            "Akurasi: 0.7570487483530962\n",
            "\n",
            "Calinski-Harabasz Index:\n",
            "Random Forest: 1.6018143158248848\n",
            "XGBoost: 1.7706641327632073\n"
          ]
        }
      ]
    },
    {
      "cell_type": "code",
      "source": [
        "# Hitung standar deviasi MAE untuk Random Forest\n",
        "rf_mae_std = np.std([mean_absolute_error(y_test, rf_model.predict(x_test)) for _ in range(10)])\n",
        "\n",
        "# Hitung standar deviasi MAE untuk XGBoost\n",
        "xgb_mae_std = np.std([mean_absolute_error(y_test, xgb_model.predict(x_test)) for _ in range(10)])\n"
      ],
      "metadata": {
        "id": "Oz9x1HbV9kg1"
      },
      "execution_count": 85,
      "outputs": []
    },
    {
      "cell_type": "code",
      "source": [
        "import time\n",
        "\n",
        "# Hitung waktu pelatihan dan prediksi untuk Random Forest\n",
        "rf_start_time = time.time()\n",
        "rf_model.fit(x_train, y_train)\n",
        "rf_end_time = time.time()\n",
        "rf_training_time = rf_end_time - rf_start_time\n",
        "\n",
        "rf_start_time = time.time()\n",
        "rf_y_pred = rf_model.predict(x_test)\n",
        "rf_end_time = time.time()\n",
        "rf_prediction_time = rf_end_time - rf_start_time\n",
        "\n",
        "# Hitung waktu pelatihan dan prediksi untuk XGBoost\n",
        "xgb_start_time = time.time()\n",
        "xgb_model.fit(x_train, y_train)\n",
        "xgb_end_time = time.time()\n",
        "xgb_training_time = xgb_end_time - xgb_start_time\n",
        "\n",
        "xgb_start_time = time.time()\n",
        "xgb_y_pred = xgb_model.predict(x_test)\n",
        "xgb_end_time = time.time()\n",
        "xgb_prediction_time = xgb_end_time - xgb_start_time\n"
      ],
      "metadata": {
        "id": "PLxg20-u-daJ"
      },
      "execution_count": 86,
      "outputs": []
    },
    {
      "cell_type": "code",
      "source": [
        "# @title MAE\n",
        "print(\"MAE Random Forest:\", rf_mae)\n",
        "print(\"MAE XGBoost:\", xgb_mae)\n"
      ],
      "metadata": {
        "colab": {
          "base_uri": "https://localhost:8080/"
        },
        "id": "lFppvAbd12-R",
        "outputId": "9597d505-8c5f-4d54-bfe1-da71130f2f04"
      },
      "execution_count": 87,
      "outputs": [
        {
          "output_type": "stream",
          "name": "stdout",
          "text": [
            "MAE Random Forest: 0.3266403162055336\n",
            "MAE XGBoost: 0.37175230566534917\n"
          ]
        }
      ]
    },
    {
      "cell_type": "code",
      "source": [
        "# @title AKURASI\n",
        "print(\"Akurasi Random Forest:\", rf_accuracy)\n",
        "print(\"Akurasi XGBoost:\", xgb_accuracy)\n"
      ],
      "metadata": {
        "colab": {
          "base_uri": "https://localhost:8080/"
        },
        "id": "umNmO6sc4d8f",
        "outputId": "9d35e96a-d72e-4051-ca1b-ecd86ed54e7f"
      },
      "execution_count": 88,
      "outputs": [
        {
          "output_type": "stream",
          "name": "stdout",
          "text": [
            "Akurasi Random Forest: 0.7886693017127799\n",
            "Akurasi XGBoost: 0.7570487483530962\n"
          ]
        }
      ]
    },
    {
      "cell_type": "code",
      "source": [
        "# @title Calinski-Harabasz\n",
        "print(\"Calinski-Harabasz Index Random Forest:\", ch_score_rf)\n",
        "print(\"Calinski-Harabasz Index XGBoost:\", ch_score_xgb)\n"
      ],
      "metadata": {
        "colab": {
          "base_uri": "https://localhost:8080/"
        },
        "id": "r6aWgqsa4dwq",
        "outputId": "cc125bc0-dc3b-4f77-adb2-b743234c9ffe"
      },
      "execution_count": 89,
      "outputs": [
        {
          "output_type": "stream",
          "name": "stdout",
          "text": [
            "Calinski-Harabasz Index Random Forest: 1.6018143158248848\n",
            "Calinski-Harabasz Index XGBoost: 1.7706641327632073\n"
          ]
        }
      ]
    },
    {
      "cell_type": "markdown",
      "source": [
        "# REKOMENDASI"
      ],
      "metadata": {
        "id": "xsExFszn5bxc"
      }
    },
    {
      "cell_type": "code",
      "source": [
        "# @title Jika Anda mengutamakan akurasi klasifikasi\n",
        "if rf_accuracy > xgb_accuracy:\n",
        "    recommended_model = \"Random Forest\"\n",
        "else:\n",
        "    recommended_model = \"XGBoost\"\n",
        "\n",
        "print(\"Rekomendasi model untuk akurasi klasifikasi:\", recommended_model)"
      ],
      "metadata": {
        "colab": {
          "base_uri": "https://localhost:8080/"
        },
        "id": "Yfo38rO95lea",
        "outputId": "607d1478-bb60-47bb-b4fb-711646544238"
      },
      "execution_count": 90,
      "outputs": [
        {
          "output_type": "stream",
          "name": "stdout",
          "text": [
            "Rekomendasi model untuk akurasi klasifikasi: Random Forest\n"
          ]
        }
      ]
    },
    {
      "cell_type": "code",
      "source": [
        "# @title Jika Anda mengutamakan presisi dalam prediksi nilai\n",
        "if rf_mae < xgb_mae:\n",
        "    recommended_model = \"Random Forest\"\n",
        "else:\n",
        "    recommended_model = \"XGBoost\"\n",
        "\n",
        "print(\"Rekomendasi model untuk presisi prediksi nilai:\", recommended_model)"
      ],
      "metadata": {
        "colab": {
          "base_uri": "https://localhost:8080/"
        },
        "id": "MbtKxGt750K1",
        "outputId": "9917dd34-53a9-49ab-fb86-4a9a4aea9b71"
      },
      "execution_count": 91,
      "outputs": [
        {
          "output_type": "stream",
          "name": "stdout",
          "text": [
            "Rekomendasi model untuk presisi prediksi nilai: Random Forest\n"
          ]
        }
      ]
    },
    {
      "cell_type": "code",
      "source": [
        "# @title Rekomendasi model untuk kestabilan kinerja\n",
        "if rf_mae_std < xgb_mae_std:\n",
        "    recommended_model_stability = \"Random Forest\"\n",
        "else:\n",
        "    recommended_model_stability = \"XGBoost\"\n",
        "\n",
        "print(\"Rekomendasi model untuk kestabilan kinerja: \", recommended_model_stability)"
      ],
      "metadata": {
        "colab": {
          "base_uri": "https://localhost:8080/"
        },
        "id": "O-iZJQVX9VL2",
        "outputId": "9df2c977-e602-4871-bc81-5c00d6391378"
      },
      "execution_count": 92,
      "outputs": [
        {
          "output_type": "stream",
          "name": "stdout",
          "text": [
            "Rekomendasi model untuk kestabilan kinerja:  Random Forest\n"
          ]
        }
      ]
    },
    {
      "cell_type": "code",
      "source": [
        "# @title Jika ingin mengoptimalkan waktu komputasi\n",
        "# Misalkan rf_training_time dan xgb_training_time adalah waktu pelatihan masing-masing model\n",
        "# Misalkan rf_prediction_time dan xgb_prediction_time adalah waktu prediksi masing-masing model\n",
        "# Anda dapat mempertimbangkan total waktu pelatihan dan prediksi, atau mungkin hanya waktu prediksi jika itu yang paling penting bagi Anda\n",
        "\n",
        "if (rf_training_time + rf_prediction_time) < (xgb_training_time + xgb_prediction_time):\n",
        "    recommended_model = \"Random Forest\"\n",
        "else:\n",
        "    recommended_model = \"XGBoost\"\n",
        "\n",
        "print(\"Rekomendasi model untuk optimasi waktu komputasi:\", recommended_model)"
      ],
      "metadata": {
        "colab": {
          "base_uri": "https://localhost:8080/"
        },
        "id": "lV9modcu-U4T",
        "outputId": "eb47e84d-4b53-4310-c301-48dd411066eb"
      },
      "execution_count": 93,
      "outputs": [
        {
          "output_type": "stream",
          "name": "stdout",
          "text": [
            "Rekomendasi model untuk optimasi waktu komputasi: XGBoost\n"
          ]
        }
      ]
    },
    {
      "cell_type": "code",
      "source": [
        "# @title Jika interpretasi model penting\n",
        "# Anda mungkin ingin mempertimbangkan fitur importance dari Random Forest atau kontribusi fitur dari XGBoost\n",
        "\n",
        "random_forest_interpretable = True\n",
        "\n",
        "interpretability_criteria = \"Random Forest\" if random_forest_interpretable else \"XGBoost\"\n",
        "print(\"Rekomendasi model untuk interpretasi:\", interpretability_criteria)\n"
      ],
      "metadata": {
        "colab": {
          "base_uri": "https://localhost:8080/"
        },
        "id": "TihwjKtZ5__W",
        "outputId": "3a14c12b-8d03-428b-91c2-fa14b33118fb"
      },
      "execution_count": 94,
      "outputs": [
        {
          "output_type": "stream",
          "name": "stdout",
          "text": [
            "Rekomendasi model untuk interpretasi: Random Forest\n"
          ]
        }
      ]
    }
  ]
}